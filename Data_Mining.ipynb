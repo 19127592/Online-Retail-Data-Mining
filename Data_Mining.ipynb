{
  "nbformat": 4,
  "nbformat_minor": 0,
  "metadata": {
    "colab": {
      "name": "PrefixSpan_DataMining_Group01.ipynb",
      "provenance": [],
      "collapsed_sections": [],
      "include_colab_link": true
    },
    "kernelspec": {
      "name": "python3",
      "display_name": "Python 3"
    },
    "language_info": {
      "name": "python"
    }
  },
  "cells": [
    {
      "cell_type": "markdown",
      "metadata": {
        "id": "view-in-github",
        "colab_type": "text"
      },
      "source": [
        "<a href=\"https://colab.research.google.com/github/19127592/Online-Retail-Data-Mining/blob/main/Data_Mining.ipynb\" target=\"_parent\"><img src=\"https://colab.research.google.com/assets/colab-badge.svg\" alt=\"Open In Colab\"/></a>"
      ]
    },
    {
      "cell_type": "code",
      "execution_count": 1,
      "metadata": {
        "colab": {
          "base_uri": "https://localhost:8080/"
        },
        "id": "GcXOWHoD-SxS",
        "outputId": "039e1589-c372-43d1-a072-c93cda548a36"
      },
      "outputs": [
        {
          "output_type": "stream",
          "name": "stdout",
          "text": [
            "Looking in indexes: https://pypi.org/simple, https://us-python.pkg.dev/colab-wheels/public/simple/\n",
            "Collecting pyspark\n",
            "  Downloading pyspark-3.3.0.tar.gz (281.3 MB)\n",
            "\u001b[K     |████████████████████████████████| 281.3 MB 36 kB/s \n",
            "\u001b[?25hCollecting py4j==0.10.9.5\n",
            "  Downloading py4j-0.10.9.5-py2.py3-none-any.whl (199 kB)\n",
            "\u001b[K     |████████████████████████████████| 199 kB 50.9 MB/s \n",
            "\u001b[?25hBuilding wheels for collected packages: pyspark\n",
            "  Building wheel for pyspark (setup.py) ... \u001b[?25l\u001b[?25hdone\n",
            "  Created wheel for pyspark: filename=pyspark-3.3.0-py2.py3-none-any.whl size=281764026 sha256=4b2007972e72adad042443b0ca90c7b096c01a86c76e618c793347253ba79a65\n",
            "  Stored in directory: /root/.cache/pip/wheels/7a/8e/1b/f73a52650d2e5f337708d9f6a1750d451a7349a867f928b885\n",
            "Successfully built pyspark\n",
            "Installing collected packages: py4j, pyspark\n",
            "Successfully installed py4j-0.10.9.5 pyspark-3.3.0\n"
          ]
        }
      ],
      "source": [
        "!pip install pyspark"
      ]
    },
    {
      "cell_type": "code",
      "source": [
        "from pyspark.sql import *\n",
        "from pyspark.ml.fpm import PrefixSpan\n",
        "from pyspark.sql import Row\n",
        "from pyspark import SparkContext\n",
        "from math import ceil \n",
        "import pandas as pd\n",
        "import matplotlib.pyplot as plt\n",
        "import numpy as np\n",
        "import datetime\n",
        "import seaborn as sns"
      ],
      "metadata": {
        "id": "BpIXzwiI-Ucl"
      },
      "execution_count": 2,
      "outputs": []
    },
    {
      "cell_type": "code",
      "source": [
        "!pip install -U -q PyDrive\n",
        "from pydrive.auth import GoogleAuth\n",
        "from pydrive.drive import GoogleDrive\n",
        "from google.colab import auth\n",
        "from oauth2client.client import GoogleCredentials"
      ],
      "metadata": {
        "id": "iviuQQhH-Yyb"
      },
      "execution_count": 3,
      "outputs": []
    },
    {
      "cell_type": "code",
      "source": [
        "auth.authenticate_user()\n",
        "gauth = GoogleAuth()\n",
        "gauth.credentials = GoogleCredentials.get_application_default()\n",
        "drive = GoogleDrive(gauth)"
      ],
      "metadata": {
        "id": "x3x0He_e-2hw"
      },
      "execution_count": 4,
      "outputs": []
    },
    {
      "cell_type": "code",
      "source": [
        "downloaded = drive.CreateFile({'id':'1tMmTT4Her_Dw2aLbIcQdBmAJe5UIMU3Z'}) # replace the id with id of file you want to access\n",
        "downloaded.GetContentFile('OnlineRetail.csv')"
      ],
      "metadata": {
        "id": "_Lb_zfXL-sCn"
      },
      "execution_count": 5,
      "outputs": []
    },
    {
      "cell_type": "code",
      "source": [
        "sc = SparkContext(\"local\", \"first app\")\n",
        "spark = SparkSession(sc)"
      ],
      "metadata": {
        "id": "fnWKLiZyTatH"
      },
      "execution_count": 6,
      "outputs": []
    },
    {
      "cell_type": "markdown",
      "source": [
        "## Đọc dữ liệu từ file"
      ],
      "metadata": {
        "id": "6FTO-WPJG_UV"
      }
    },
    {
      "cell_type": "code",
      "source": [
        "onlineretail_df = pd.read_csv('OnlineRetail.csv',encoding = 'unicode_escape')\n",
        "onlineretail_df = onlineretail_df[onlineretail_df['CustomerID']==17841]\n",
        "onlineretail_df"
      ],
      "metadata": {
        "colab": {
          "base_uri": "https://localhost:8080/",
          "height": 423
        },
        "id": "L-r_Rb10-YWG",
        "outputId": "d22f000f-a9eb-42f7-e6dc-51e546b764e2"
      },
      "execution_count": 7,
      "outputs": [
        {
          "output_type": "execute_result",
          "data": {
            "text/plain": [
              "       InvoiceNo StockCode                      Description  Quantity  \\\n",
              "1441     C536543     22632        HAND WARMER RED RETROSPOT        -1   \n",
              "1442     C536543     22355        CHARLOTTE BAG SUKI DESIGN        -2   \n",
              "2037      536557     21495       SKULLS AND CROSSBONES WRAP        25   \n",
              "2038      536557    46000R     POLYESTER FILLER PAD 45x30cm         2   \n",
              "2039      536557    46000S     POLYESTER FILLER PAD 40x40cm         1   \n",
              "...          ...       ...                              ...       ...   \n",
              "537749    581334     23399    HOME SWEET HOME HANGING HEART         3   \n",
              "537750    581334     22893   MINI CAKE STAND T-LIGHT HOLDER        12   \n",
              "537751    581334     22371     AIRLINE BAG VINTAGE TOKYO 78         1   \n",
              "537752    581334     22309             TEA COSY RED  STRIPE         1   \n",
              "537753    581334     21926  RED/CREAM STRIPE CUSHION COVER          8   \n",
              "\n",
              "            InvoiceDate  UnitPrice  CustomerID         Country  \n",
              "1441    12/1/2010 14:30       2.10     17841.0  United Kingdom  \n",
              "1442    12/1/2010 14:30       0.85     17841.0  United Kingdom  \n",
              "2037    12/1/2010 14:41       0.42     17841.0  United Kingdom  \n",
              "2038    12/1/2010 14:41       1.45     17841.0  United Kingdom  \n",
              "2039    12/1/2010 14:41       1.45     17841.0  United Kingdom  \n",
              "...                 ...        ...         ...             ...  \n",
              "537749  12/8/2011 12:07       0.85     17841.0  United Kingdom  \n",
              "537750  12/8/2011 12:07       0.42     17841.0  United Kingdom  \n",
              "537751  12/8/2011 12:07       4.25     17841.0  United Kingdom  \n",
              "537752  12/8/2011 12:07       2.55     17841.0  United Kingdom  \n",
              "537753  12/8/2011 12:07       1.25     17841.0  United Kingdom  \n",
              "\n",
              "[7983 rows x 8 columns]"
            ],
            "text/html": [
              "\n",
              "  <div id=\"df-043076cb-3531-4a87-8689-b2fbbe1e9b84\">\n",
              "    <div class=\"colab-df-container\">\n",
              "      <div>\n",
              "<style scoped>\n",
              "    .dataframe tbody tr th:only-of-type {\n",
              "        vertical-align: middle;\n",
              "    }\n",
              "\n",
              "    .dataframe tbody tr th {\n",
              "        vertical-align: top;\n",
              "    }\n",
              "\n",
              "    .dataframe thead th {\n",
              "        text-align: right;\n",
              "    }\n",
              "</style>\n",
              "<table border=\"1\" class=\"dataframe\">\n",
              "  <thead>\n",
              "    <tr style=\"text-align: right;\">\n",
              "      <th></th>\n",
              "      <th>InvoiceNo</th>\n",
              "      <th>StockCode</th>\n",
              "      <th>Description</th>\n",
              "      <th>Quantity</th>\n",
              "      <th>InvoiceDate</th>\n",
              "      <th>UnitPrice</th>\n",
              "      <th>CustomerID</th>\n",
              "      <th>Country</th>\n",
              "    </tr>\n",
              "  </thead>\n",
              "  <tbody>\n",
              "    <tr>\n",
              "      <th>1441</th>\n",
              "      <td>C536543</td>\n",
              "      <td>22632</td>\n",
              "      <td>HAND WARMER RED RETROSPOT</td>\n",
              "      <td>-1</td>\n",
              "      <td>12/1/2010 14:30</td>\n",
              "      <td>2.10</td>\n",
              "      <td>17841.0</td>\n",
              "      <td>United Kingdom</td>\n",
              "    </tr>\n",
              "    <tr>\n",
              "      <th>1442</th>\n",
              "      <td>C536543</td>\n",
              "      <td>22355</td>\n",
              "      <td>CHARLOTTE BAG SUKI DESIGN</td>\n",
              "      <td>-2</td>\n",
              "      <td>12/1/2010 14:30</td>\n",
              "      <td>0.85</td>\n",
              "      <td>17841.0</td>\n",
              "      <td>United Kingdom</td>\n",
              "    </tr>\n",
              "    <tr>\n",
              "      <th>2037</th>\n",
              "      <td>536557</td>\n",
              "      <td>21495</td>\n",
              "      <td>SKULLS AND CROSSBONES WRAP</td>\n",
              "      <td>25</td>\n",
              "      <td>12/1/2010 14:41</td>\n",
              "      <td>0.42</td>\n",
              "      <td>17841.0</td>\n",
              "      <td>United Kingdom</td>\n",
              "    </tr>\n",
              "    <tr>\n",
              "      <th>2038</th>\n",
              "      <td>536557</td>\n",
              "      <td>46000R</td>\n",
              "      <td>POLYESTER FILLER PAD 45x30cm</td>\n",
              "      <td>2</td>\n",
              "      <td>12/1/2010 14:41</td>\n",
              "      <td>1.45</td>\n",
              "      <td>17841.0</td>\n",
              "      <td>United Kingdom</td>\n",
              "    </tr>\n",
              "    <tr>\n",
              "      <th>2039</th>\n",
              "      <td>536557</td>\n",
              "      <td>46000S</td>\n",
              "      <td>POLYESTER FILLER PAD 40x40cm</td>\n",
              "      <td>1</td>\n",
              "      <td>12/1/2010 14:41</td>\n",
              "      <td>1.45</td>\n",
              "      <td>17841.0</td>\n",
              "      <td>United Kingdom</td>\n",
              "    </tr>\n",
              "    <tr>\n",
              "      <th>...</th>\n",
              "      <td>...</td>\n",
              "      <td>...</td>\n",
              "      <td>...</td>\n",
              "      <td>...</td>\n",
              "      <td>...</td>\n",
              "      <td>...</td>\n",
              "      <td>...</td>\n",
              "      <td>...</td>\n",
              "    </tr>\n",
              "    <tr>\n",
              "      <th>537749</th>\n",
              "      <td>581334</td>\n",
              "      <td>23399</td>\n",
              "      <td>HOME SWEET HOME HANGING HEART</td>\n",
              "      <td>3</td>\n",
              "      <td>12/8/2011 12:07</td>\n",
              "      <td>0.85</td>\n",
              "      <td>17841.0</td>\n",
              "      <td>United Kingdom</td>\n",
              "    </tr>\n",
              "    <tr>\n",
              "      <th>537750</th>\n",
              "      <td>581334</td>\n",
              "      <td>22893</td>\n",
              "      <td>MINI CAKE STAND T-LIGHT HOLDER</td>\n",
              "      <td>12</td>\n",
              "      <td>12/8/2011 12:07</td>\n",
              "      <td>0.42</td>\n",
              "      <td>17841.0</td>\n",
              "      <td>United Kingdom</td>\n",
              "    </tr>\n",
              "    <tr>\n",
              "      <th>537751</th>\n",
              "      <td>581334</td>\n",
              "      <td>22371</td>\n",
              "      <td>AIRLINE BAG VINTAGE TOKYO 78</td>\n",
              "      <td>1</td>\n",
              "      <td>12/8/2011 12:07</td>\n",
              "      <td>4.25</td>\n",
              "      <td>17841.0</td>\n",
              "      <td>United Kingdom</td>\n",
              "    </tr>\n",
              "    <tr>\n",
              "      <th>537752</th>\n",
              "      <td>581334</td>\n",
              "      <td>22309</td>\n",
              "      <td>TEA COSY RED  STRIPE</td>\n",
              "      <td>1</td>\n",
              "      <td>12/8/2011 12:07</td>\n",
              "      <td>2.55</td>\n",
              "      <td>17841.0</td>\n",
              "      <td>United Kingdom</td>\n",
              "    </tr>\n",
              "    <tr>\n",
              "      <th>537753</th>\n",
              "      <td>581334</td>\n",
              "      <td>21926</td>\n",
              "      <td>RED/CREAM STRIPE CUSHION COVER</td>\n",
              "      <td>8</td>\n",
              "      <td>12/8/2011 12:07</td>\n",
              "      <td>1.25</td>\n",
              "      <td>17841.0</td>\n",
              "      <td>United Kingdom</td>\n",
              "    </tr>\n",
              "  </tbody>\n",
              "</table>\n",
              "<p>7983 rows × 8 columns</p>\n",
              "</div>\n",
              "      <button class=\"colab-df-convert\" onclick=\"convertToInteractive('df-043076cb-3531-4a87-8689-b2fbbe1e9b84')\"\n",
              "              title=\"Convert this dataframe to an interactive table.\"\n",
              "              style=\"display:none;\">\n",
              "        \n",
              "  <svg xmlns=\"http://www.w3.org/2000/svg\" height=\"24px\"viewBox=\"0 0 24 24\"\n",
              "       width=\"24px\">\n",
              "    <path d=\"M0 0h24v24H0V0z\" fill=\"none\"/>\n",
              "    <path d=\"M18.56 5.44l.94 2.06.94-2.06 2.06-.94-2.06-.94-.94-2.06-.94 2.06-2.06.94zm-11 1L8.5 8.5l.94-2.06 2.06-.94-2.06-.94L8.5 2.5l-.94 2.06-2.06.94zm10 10l.94 2.06.94-2.06 2.06-.94-2.06-.94-.94-2.06-.94 2.06-2.06.94z\"/><path d=\"M17.41 7.96l-1.37-1.37c-.4-.4-.92-.59-1.43-.59-.52 0-1.04.2-1.43.59L10.3 9.45l-7.72 7.72c-.78.78-.78 2.05 0 2.83L4 21.41c.39.39.9.59 1.41.59.51 0 1.02-.2 1.41-.59l7.78-7.78 2.81-2.81c.8-.78.8-2.07 0-2.86zM5.41 20L4 18.59l7.72-7.72 1.47 1.35L5.41 20z\"/>\n",
              "  </svg>\n",
              "      </button>\n",
              "      \n",
              "  <style>\n",
              "    .colab-df-container {\n",
              "      display:flex;\n",
              "      flex-wrap:wrap;\n",
              "      gap: 12px;\n",
              "    }\n",
              "\n",
              "    .colab-df-convert {\n",
              "      background-color: #E8F0FE;\n",
              "      border: none;\n",
              "      border-radius: 50%;\n",
              "      cursor: pointer;\n",
              "      display: none;\n",
              "      fill: #1967D2;\n",
              "      height: 32px;\n",
              "      padding: 0 0 0 0;\n",
              "      width: 32px;\n",
              "    }\n",
              "\n",
              "    .colab-df-convert:hover {\n",
              "      background-color: #E2EBFA;\n",
              "      box-shadow: 0px 1px 2px rgba(60, 64, 67, 0.3), 0px 1px 3px 1px rgba(60, 64, 67, 0.15);\n",
              "      fill: #174EA6;\n",
              "    }\n",
              "\n",
              "    [theme=dark] .colab-df-convert {\n",
              "      background-color: #3B4455;\n",
              "      fill: #D2E3FC;\n",
              "    }\n",
              "\n",
              "    [theme=dark] .colab-df-convert:hover {\n",
              "      background-color: #434B5C;\n",
              "      box-shadow: 0px 1px 3px 1px rgba(0, 0, 0, 0.15);\n",
              "      filter: drop-shadow(0px 1px 2px rgba(0, 0, 0, 0.3));\n",
              "      fill: #FFFFFF;\n",
              "    }\n",
              "  </style>\n",
              "\n",
              "      <script>\n",
              "        const buttonEl =\n",
              "          document.querySelector('#df-043076cb-3531-4a87-8689-b2fbbe1e9b84 button.colab-df-convert');\n",
              "        buttonEl.style.display =\n",
              "          google.colab.kernel.accessAllowed ? 'block' : 'none';\n",
              "\n",
              "        async function convertToInteractive(key) {\n",
              "          const element = document.querySelector('#df-043076cb-3531-4a87-8689-b2fbbe1e9b84');\n",
              "          const dataTable =\n",
              "            await google.colab.kernel.invokeFunction('convertToInteractive',\n",
              "                                                     [key], {});\n",
              "          if (!dataTable) return;\n",
              "\n",
              "          const docLinkHtml = 'Like what you see? Visit the ' +\n",
              "            '<a target=\"_blank\" href=https://colab.research.google.com/notebooks/data_table.ipynb>data table notebook</a>'\n",
              "            + ' to learn more about interactive tables.';\n",
              "          element.innerHTML = '';\n",
              "          dataTable['output_type'] = 'display_data';\n",
              "          await google.colab.output.renderOutput(dataTable, element);\n",
              "          const docLink = document.createElement('div');\n",
              "          docLink.innerHTML = docLinkHtml;\n",
              "          element.appendChild(docLink);\n",
              "        }\n",
              "      </script>\n",
              "    </div>\n",
              "  </div>\n",
              "  "
            ]
          },
          "metadata": {},
          "execution_count": 7
        }
      ]
    },
    {
      "cell_type": "markdown",
      "source": [
        "### Chuyển cột InvoiceDate sang kiểu datetime"
      ],
      "metadata": {
        "id": "h4qExfcDHFaN"
      }
    },
    {
      "cell_type": "code",
      "source": [
        "onlineretail_df['InvoiceDate'] = pd.to_datetime(onlineretail_df['InvoiceDate'],format='%m/%d/%Y %H:%M')"
      ],
      "metadata": {
        "id": "0aUkE1iRWOUr"
      },
      "execution_count": 8,
      "outputs": []
    },
    {
      "cell_type": "markdown",
      "source": [
        "Thuật toán Lossy Counting\n"
      ],
      "metadata": {
        "id": "fkQzGDEzBX_5"
      }
    },
    {
      "cell_type": "code",
      "source": [
        "class LossyCount:  \n",
        "    def __init__(self, max_error=0.005):  \n",
        "        self.max_error = max_error  \n",
        "        self.bucket_width = ceil(1/max_error)  \n",
        "        self.entries = dict()  \n",
        "        self.n = 0  \n",
        "  \n",
        "    def put(self, x):  \n",
        "        self.n += 1  \n",
        "        current_bucket = ceil(self.n / self.bucket_width)  \n",
        "  \n",
        "        freq, delta = 1, current_bucket-1  \n",
        "        if x in self.entries:  \n",
        "            freq, delta = self.entries[x]  \n",
        "            freq += 1  \n",
        "        self.entries[x] = (freq, delta)  \n",
        "  \n",
        "       \n",
        "        if self.n % self.bucket_width == 0:  \n",
        "            prune = []  \n",
        "            for key in self.entries:  \n",
        "                freq, delta = self.entries[key]  \n",
        "                if freq + delta <= current_bucket:  \n",
        "                    prune.append(key)  \n",
        "            for key in prune:  \n",
        "                del self.entries[key]  \n",
        "  \n",
        "    def get(self, support_threshold):  \n",
        "        res = []  \n",
        "        for key in self.entries:  \n",
        "            freq, delta = self.entries[key]  \n",
        "            if freq >= (support_threshold - self.max_error)*self.n:  \n",
        "                res.append(key)  \n",
        "        return res"
      ],
      "metadata": {
        "id": "kmu6PrukUkjY"
      },
      "execution_count": 9,
      "outputs": []
    },
    {
      "cell_type": "markdown",
      "source": [
        "Lấy những mặt hàng từ năm 2010"
      ],
      "metadata": {
        "id": "mPx1nu69GwN1"
      }
    },
    {
      "cell_type": "code",
      "source": [
        "mining_stream_df = onlineretail_df[onlineretail_df['InvoiceDate'].dt.year==2010]"
      ],
      "metadata": {
        "id": "eoBd3PcQUlJE"
      },
      "execution_count": 10,
      "outputs": []
    },
    {
      "cell_type": "markdown",
      "source": [
        "Chạy thuật toán Lossy Counting\n"
      ],
      "metadata": {
        "id": "MqPFGacqG4XG"
      }
    },
    {
      "cell_type": "code",
      "source": [
        "threshold = 0.02\n",
        "Description = mining_stream_df['Description'].values\n",
        "lc = LossyCount()  \n",
        "for v in Description:  \n",
        "    lc.put(v)  \n",
        "print(np.sort(lc.get(threshold)))  "
      ],
      "metadata": {
        "colab": {
          "base_uri": "https://localhost:8080/"
        },
        "id": "aP-DHd9UUrFq",
        "outputId": "c7179185-fbac-4a6d-ce66-2840c564569f"
      },
      "execution_count": 11,
      "outputs": [
        {
          "output_type": "stream",
          "name": "stdout",
          "text": [
            "['CHILLI LIGHTS' 'DISCO BALL CHRISTMAS DECORATION' 'SANDWICH BATH SPONGE'\n",
            " 'WHITE SKULL HOT WATER BOTTLE ']\n"
          ]
        }
      ]
    },
    {
      "cell_type": "markdown",
      "source": [
        "Because time-series is continous data over time, we take all the records without filtering."
      ],
      "metadata": {
        "id": "NsRrII4LWgnq"
      }
    },
    {
      "cell_type": "code",
      "source": [
        "onlineretail_df_withoutfilter = pd.read_csv('OnlineRetail.csv',encoding = 'unicode_escape')\n",
        "time_series_df = onlineretail_df_withoutfilter[['InvoiceDate','Quantity','UnitPrice']]"
      ],
      "metadata": {
        "id": "pht656RUoIN4"
      },
      "execution_count": 12,
      "outputs": []
    },
    {
      "cell_type": "code",
      "source": [
        "time_series_df['InvoiceDate'] = pd.to_datetime(time_series_df['InvoiceDate'],format='%m/%d/%Y %H:%M')"
      ],
      "metadata": {
        "id": "rIbc44ouqDvp",
        "outputId": "514cfe11-f910-4742-e037-689f7b5d0949",
        "colab": {
          "base_uri": "https://localhost:8080/"
        }
      },
      "execution_count": 13,
      "outputs": [
        {
          "output_type": "stream",
          "name": "stderr",
          "text": [
            "/usr/local/lib/python3.7/dist-packages/ipykernel_launcher.py:1: SettingWithCopyWarning: \n",
            "A value is trying to be set on a copy of a slice from a DataFrame.\n",
            "Try using .loc[row_indexer,col_indexer] = value instead\n",
            "\n",
            "See the caveats in the documentation: https://pandas.pydata.org/pandas-docs/stable/user_guide/indexing.html#returning-a-view-versus-a-copy\n",
            "  \"\"\"Entry point for launching an IPython kernel.\n"
          ]
        }
      ]
    },
    {
      "cell_type": "markdown",
      "source": [
        "### Tính doanh thu bằng cách lấy cột `Quantity` nhân với `UnitPrice` sau đó lưu vào cột `Total`"
      ],
      "metadata": {
        "id": "fQCSuXFyHtK9"
      }
    },
    {
      "cell_type": "code",
      "source": [
        "time_series_df['Total']=time_series_df['Quantity']*time_series_df['UnitPrice']"
      ],
      "metadata": {
        "colab": {
          "base_uri": "https://localhost:8080/"
        },
        "id": "RKj6RACmhuB-",
        "outputId": "8ce03744-7b93-4aa2-89cd-0475f3eef118"
      },
      "execution_count": 14,
      "outputs": [
        {
          "output_type": "stream",
          "name": "stderr",
          "text": [
            "/usr/local/lib/python3.7/dist-packages/ipykernel_launcher.py:1: SettingWithCopyWarning: \n",
            "A value is trying to be set on a copy of a slice from a DataFrame.\n",
            "Try using .loc[row_indexer,col_indexer] = value instead\n",
            "\n",
            "See the caveats in the documentation: https://pandas.pydata.org/pandas-docs/stable/user_guide/indexing.html#returning-a-view-versus-a-copy\n",
            "  \"\"\"Entry point for launching an IPython kernel.\n"
          ]
        }
      ]
    },
    {
      "cell_type": "code",
      "source": [
        "time_series_df"
      ],
      "metadata": {
        "colab": {
          "base_uri": "https://localhost:8080/",
          "height": 423
        },
        "id": "dOp5ntpmifRo",
        "outputId": "791a9da8-15d7-43b7-c9fd-7f54fa02916b"
      },
      "execution_count": 15,
      "outputs": [
        {
          "output_type": "execute_result",
          "data": {
            "text/plain": [
              "               InvoiceDate  Quantity  UnitPrice  Total\n",
              "0      2010-12-01 08:26:00         6       2.55  15.30\n",
              "1      2010-12-01 08:26:00         6       3.39  20.34\n",
              "2      2010-12-01 08:26:00         8       2.75  22.00\n",
              "3      2010-12-01 08:26:00         6       3.39  20.34\n",
              "4      2010-12-01 08:26:00         6       3.39  20.34\n",
              "...                    ...       ...        ...    ...\n",
              "541904 2011-12-09 12:50:00        12       0.85  10.20\n",
              "541905 2011-12-09 12:50:00         6       2.10  12.60\n",
              "541906 2011-12-09 12:50:00         4       4.15  16.60\n",
              "541907 2011-12-09 12:50:00         4       4.15  16.60\n",
              "541908 2011-12-09 12:50:00         3       4.95  14.85\n",
              "\n",
              "[541909 rows x 4 columns]"
            ],
            "text/html": [
              "\n",
              "  <div id=\"df-3b526ef5-1194-48ce-93a5-ce91803f94e8\">\n",
              "    <div class=\"colab-df-container\">\n",
              "      <div>\n",
              "<style scoped>\n",
              "    .dataframe tbody tr th:only-of-type {\n",
              "        vertical-align: middle;\n",
              "    }\n",
              "\n",
              "    .dataframe tbody tr th {\n",
              "        vertical-align: top;\n",
              "    }\n",
              "\n",
              "    .dataframe thead th {\n",
              "        text-align: right;\n",
              "    }\n",
              "</style>\n",
              "<table border=\"1\" class=\"dataframe\">\n",
              "  <thead>\n",
              "    <tr style=\"text-align: right;\">\n",
              "      <th></th>\n",
              "      <th>InvoiceDate</th>\n",
              "      <th>Quantity</th>\n",
              "      <th>UnitPrice</th>\n",
              "      <th>Total</th>\n",
              "    </tr>\n",
              "  </thead>\n",
              "  <tbody>\n",
              "    <tr>\n",
              "      <th>0</th>\n",
              "      <td>2010-12-01 08:26:00</td>\n",
              "      <td>6</td>\n",
              "      <td>2.55</td>\n",
              "      <td>15.30</td>\n",
              "    </tr>\n",
              "    <tr>\n",
              "      <th>1</th>\n",
              "      <td>2010-12-01 08:26:00</td>\n",
              "      <td>6</td>\n",
              "      <td>3.39</td>\n",
              "      <td>20.34</td>\n",
              "    </tr>\n",
              "    <tr>\n",
              "      <th>2</th>\n",
              "      <td>2010-12-01 08:26:00</td>\n",
              "      <td>8</td>\n",
              "      <td>2.75</td>\n",
              "      <td>22.00</td>\n",
              "    </tr>\n",
              "    <tr>\n",
              "      <th>3</th>\n",
              "      <td>2010-12-01 08:26:00</td>\n",
              "      <td>6</td>\n",
              "      <td>3.39</td>\n",
              "      <td>20.34</td>\n",
              "    </tr>\n",
              "    <tr>\n",
              "      <th>4</th>\n",
              "      <td>2010-12-01 08:26:00</td>\n",
              "      <td>6</td>\n",
              "      <td>3.39</td>\n",
              "      <td>20.34</td>\n",
              "    </tr>\n",
              "    <tr>\n",
              "      <th>...</th>\n",
              "      <td>...</td>\n",
              "      <td>...</td>\n",
              "      <td>...</td>\n",
              "      <td>...</td>\n",
              "    </tr>\n",
              "    <tr>\n",
              "      <th>541904</th>\n",
              "      <td>2011-12-09 12:50:00</td>\n",
              "      <td>12</td>\n",
              "      <td>0.85</td>\n",
              "      <td>10.20</td>\n",
              "    </tr>\n",
              "    <tr>\n",
              "      <th>541905</th>\n",
              "      <td>2011-12-09 12:50:00</td>\n",
              "      <td>6</td>\n",
              "      <td>2.10</td>\n",
              "      <td>12.60</td>\n",
              "    </tr>\n",
              "    <tr>\n",
              "      <th>541906</th>\n",
              "      <td>2011-12-09 12:50:00</td>\n",
              "      <td>4</td>\n",
              "      <td>4.15</td>\n",
              "      <td>16.60</td>\n",
              "    </tr>\n",
              "    <tr>\n",
              "      <th>541907</th>\n",
              "      <td>2011-12-09 12:50:00</td>\n",
              "      <td>4</td>\n",
              "      <td>4.15</td>\n",
              "      <td>16.60</td>\n",
              "    </tr>\n",
              "    <tr>\n",
              "      <th>541908</th>\n",
              "      <td>2011-12-09 12:50:00</td>\n",
              "      <td>3</td>\n",
              "      <td>4.95</td>\n",
              "      <td>14.85</td>\n",
              "    </tr>\n",
              "  </tbody>\n",
              "</table>\n",
              "<p>541909 rows × 4 columns</p>\n",
              "</div>\n",
              "      <button class=\"colab-df-convert\" onclick=\"convertToInteractive('df-3b526ef5-1194-48ce-93a5-ce91803f94e8')\"\n",
              "              title=\"Convert this dataframe to an interactive table.\"\n",
              "              style=\"display:none;\">\n",
              "        \n",
              "  <svg xmlns=\"http://www.w3.org/2000/svg\" height=\"24px\"viewBox=\"0 0 24 24\"\n",
              "       width=\"24px\">\n",
              "    <path d=\"M0 0h24v24H0V0z\" fill=\"none\"/>\n",
              "    <path d=\"M18.56 5.44l.94 2.06.94-2.06 2.06-.94-2.06-.94-.94-2.06-.94 2.06-2.06.94zm-11 1L8.5 8.5l.94-2.06 2.06-.94-2.06-.94L8.5 2.5l-.94 2.06-2.06.94zm10 10l.94 2.06.94-2.06 2.06-.94-2.06-.94-.94-2.06-.94 2.06-2.06.94z\"/><path d=\"M17.41 7.96l-1.37-1.37c-.4-.4-.92-.59-1.43-.59-.52 0-1.04.2-1.43.59L10.3 9.45l-7.72 7.72c-.78.78-.78 2.05 0 2.83L4 21.41c.39.39.9.59 1.41.59.51 0 1.02-.2 1.41-.59l7.78-7.78 2.81-2.81c.8-.78.8-2.07 0-2.86zM5.41 20L4 18.59l7.72-7.72 1.47 1.35L5.41 20z\"/>\n",
              "  </svg>\n",
              "      </button>\n",
              "      \n",
              "  <style>\n",
              "    .colab-df-container {\n",
              "      display:flex;\n",
              "      flex-wrap:wrap;\n",
              "      gap: 12px;\n",
              "    }\n",
              "\n",
              "    .colab-df-convert {\n",
              "      background-color: #E8F0FE;\n",
              "      border: none;\n",
              "      border-radius: 50%;\n",
              "      cursor: pointer;\n",
              "      display: none;\n",
              "      fill: #1967D2;\n",
              "      height: 32px;\n",
              "      padding: 0 0 0 0;\n",
              "      width: 32px;\n",
              "    }\n",
              "\n",
              "    .colab-df-convert:hover {\n",
              "      background-color: #E2EBFA;\n",
              "      box-shadow: 0px 1px 2px rgba(60, 64, 67, 0.3), 0px 1px 3px 1px rgba(60, 64, 67, 0.15);\n",
              "      fill: #174EA6;\n",
              "    }\n",
              "\n",
              "    [theme=dark] .colab-df-convert {\n",
              "      background-color: #3B4455;\n",
              "      fill: #D2E3FC;\n",
              "    }\n",
              "\n",
              "    [theme=dark] .colab-df-convert:hover {\n",
              "      background-color: #434B5C;\n",
              "      box-shadow: 0px 1px 3px 1px rgba(0, 0, 0, 0.15);\n",
              "      filter: drop-shadow(0px 1px 2px rgba(0, 0, 0, 0.3));\n",
              "      fill: #FFFFFF;\n",
              "    }\n",
              "  </style>\n",
              "\n",
              "      <script>\n",
              "        const buttonEl =\n",
              "          document.querySelector('#df-3b526ef5-1194-48ce-93a5-ce91803f94e8 button.colab-df-convert');\n",
              "        buttonEl.style.display =\n",
              "          google.colab.kernel.accessAllowed ? 'block' : 'none';\n",
              "\n",
              "        async function convertToInteractive(key) {\n",
              "          const element = document.querySelector('#df-3b526ef5-1194-48ce-93a5-ce91803f94e8');\n",
              "          const dataTable =\n",
              "            await google.colab.kernel.invokeFunction('convertToInteractive',\n",
              "                                                     [key], {});\n",
              "          if (!dataTable) return;\n",
              "\n",
              "          const docLinkHtml = 'Like what you see? Visit the ' +\n",
              "            '<a target=\"_blank\" href=https://colab.research.google.com/notebooks/data_table.ipynb>data table notebook</a>'\n",
              "            + ' to learn more about interactive tables.';\n",
              "          element.innerHTML = '';\n",
              "          dataTable['output_type'] = 'display_data';\n",
              "          await google.colab.output.renderOutput(dataTable, element);\n",
              "          const docLink = document.createElement('div');\n",
              "          docLink.innerHTML = docLinkHtml;\n",
              "          element.appendChild(docLink);\n",
              "        }\n",
              "      </script>\n",
              "    </div>\n",
              "  </div>\n",
              "  "
            ]
          },
          "metadata": {},
          "execution_count": 15
        }
      ]
    },
    {
      "cell_type": "markdown",
      "source": [
        "### Tính tổng doanh thu theo thời gian"
      ],
      "metadata": {
        "id": "6XA04zlxIDL0"
      }
    },
    {
      "cell_type": "code",
      "source": [
        "time_series_df=time_series_df.groupby(['InvoiceDate']).agg({'Total':'sum'})"
      ],
      "metadata": {
        "id": "66itOjkJiV2p"
      },
      "execution_count": 16,
      "outputs": []
    },
    {
      "cell_type": "markdown",
      "source": [
        "### Doanh thu năm 2010"
      ],
      "metadata": {
        "id": "g2yuOmkDIVJv"
      }
    },
    {
      "cell_type": "code",
      "source": [
        "time_series_df=time_series_df.loc[time_series_df.index.year==2010]"
      ],
      "metadata": {
        "id": "uFTBzgD7il5r"
      },
      "execution_count": 17,
      "outputs": []
    },
    {
      "cell_type": "markdown",
      "source": [
        "### Làm trơn dữ liệu liệu bằng phương pháp SMA"
      ],
      "metadata": {
        "id": "6rdrUZdaINds"
      }
    },
    {
      "cell_type": "code",
      "source": [
        "time_series_df['SMA'] = time_series_df['Total'].rolling(20).mean()\n",
        "time_series_df[['Total','SMA']].plot(label='RELIANCE',figsize=(16, 10),linewidth=3)"
      ],
      "metadata": {
        "colab": {
          "base_uri": "https://localhost:8080/",
          "height": 596
        },
        "id": "LbEyyNKbdc8W",
        "outputId": "0c5181b6-3edd-4493-eb23-520ca036bc6b"
      },
      "execution_count": 18,
      "outputs": [
        {
          "output_type": "execute_result",
          "data": {
            "text/plain": [
              "<matplotlib.axes._subplots.AxesSubplot at 0x7fcc1284f410>"
            ]
          },
          "metadata": {},
          "execution_count": 18
        },
        {
          "output_type": "display_data",
          "data": {
            "text/plain": [
              "<Figure size 1152x720 with 1 Axes>"
            ],
            "image/png": "[encoded data removed]"
          },
          "metadata": {
            "needs_background": "light"
          }
        }
      ]
    },
    {
      "cell_type": "markdown",
      "source": [
        "### Làm trơn dữ liệu liệu bằng phương pháp EMA"
      ],
      "metadata": {
        "id": "LlVg3PdSIkFa"
      }
    },
    {
      "cell_type": "code",
      "source": [
        "time_series_df['EMA'] = time_series_df['Total'].ewm(20).mean()\n",
        "time_series_df[['Total','EMA']].plot(label='RELIANCE',figsize=(16, 10),linewidth=3)"
      ],
      "metadata": {
        "colab": {
          "base_uri": "https://localhost:8080/",
          "height": 596
        },
        "id": "CgCcwjUcddUu",
        "outputId": "cc5953ce-d18f-460f-8fa3-a442fe19b256"
      },
      "execution_count": 19,
      "outputs": [
        {
          "output_type": "execute_result",
          "data": {
            "text/plain": [
              "<matplotlib.axes._subplots.AxesSubplot at 0x7fcc1276dd90>"
            ]
          },
          "metadata": {},
          "execution_count": 19
        },
        {
          "output_type": "display_data",
          "data": {
            "text/plain": [
              "<Figure size 1152x720 with 1 Axes>"
            ],
            "image/png": "[encoded data removed]"
          },
          "metadata": {
            "needs_background": "light"
          }
        }
      ]
    },
    {
      "cell_type": "markdown",
      "source": [
        "### PrefixSpan Data Mining"
      ],
      "metadata": {
        "id": "zbkh9OuQDgDh"
      }
    },
    {
      "cell_type": "code",
      "source": [
        "new_onlineretail_df = onlineretail_df[['InvoiceNo','InvoiceDate','Description']]\n",
        "new_onlineretail_df['InvoiceDate'] = pd.to_datetime(new_onlineretail_df['InvoiceDate'],format='%m/%d/%Y %H:%M').dt.date\n",
        "new_onlineretail_df"
      ],
      "metadata": {
        "colab": {
          "base_uri": "https://localhost:8080/",
          "height": 528
        },
        "id": "tS2BKI_H-7jo",
        "outputId": "1abc5350-419e-4116-d825-2717246a34d8"
      },
      "execution_count": 20,
      "outputs": [
        {
          "output_type": "stream",
          "name": "stderr",
          "text": [
            "/usr/local/lib/python3.7/dist-packages/ipykernel_launcher.py:2: SettingWithCopyWarning: \n",
            "A value is trying to be set on a copy of a slice from a DataFrame.\n",
            "Try using .loc[row_indexer,col_indexer] = value instead\n",
            "\n",
            "See the caveats in the documentation: https://pandas.pydata.org/pandas-docs/stable/user_guide/indexing.html#returning-a-view-versus-a-copy\n",
            "  \n"
          ]
        },
        {
          "output_type": "execute_result",
          "data": {
            "text/plain": [
              "       InvoiceNo InvoiceDate                      Description\n",
              "1441     C536543  2010-12-01        HAND WARMER RED RETROSPOT\n",
              "1442     C536543  2010-12-01        CHARLOTTE BAG SUKI DESIGN\n",
              "2037      536557  2010-12-01       SKULLS AND CROSSBONES WRAP\n",
              "2038      536557  2010-12-01     POLYESTER FILLER PAD 45x30cm\n",
              "2039      536557  2010-12-01     POLYESTER FILLER PAD 40x40cm\n",
              "...          ...         ...                              ...\n",
              "537749    581334  2011-12-08    HOME SWEET HOME HANGING HEART\n",
              "537750    581334  2011-12-08   MINI CAKE STAND T-LIGHT HOLDER\n",
              "537751    581334  2011-12-08     AIRLINE BAG VINTAGE TOKYO 78\n",
              "537752    581334  2011-12-08             TEA COSY RED  STRIPE\n",
              "537753    581334  2011-12-08  RED/CREAM STRIPE CUSHION COVER \n",
              "\n",
              "[7983 rows x 3 columns]"
            ],
            "text/html": [
              "\n",
              "  <div id=\"df-31e8876f-8eda-41fc-995f-96543cbc9b2f\">\n",
              "    <div class=\"colab-df-container\">\n",
              "      <div>\n",
              "<style scoped>\n",
              "    .dataframe tbody tr th:only-of-type {\n",
              "        vertical-align: middle;\n",
              "    }\n",
              "\n",
              "    .dataframe tbody tr th {\n",
              "        vertical-align: top;\n",
              "    }\n",
              "\n",
              "    .dataframe thead th {\n",
              "        text-align: right;\n",
              "    }\n",
              "</style>\n",
              "<table border=\"1\" class=\"dataframe\">\n",
              "  <thead>\n",
              "    <tr style=\"text-align: right;\">\n",
              "      <th></th>\n",
              "      <th>InvoiceNo</th>\n",
              "      <th>InvoiceDate</th>\n",
              "      <th>Description</th>\n",
              "    </tr>\n",
              "  </thead>\n",
              "  <tbody>\n",
              "    <tr>\n",
              "      <th>1441</th>\n",
              "      <td>C536543</td>\n",
              "      <td>2010-12-01</td>\n",
              "      <td>HAND WARMER RED RETROSPOT</td>\n",
              "    </tr>\n",
              "    <tr>\n",
              "      <th>1442</th>\n",
              "      <td>C536543</td>\n",
              "      <td>2010-12-01</td>\n",
              "      <td>CHARLOTTE BAG SUKI DESIGN</td>\n",
              "    </tr>\n",
              "    <tr>\n",
              "      <th>2037</th>\n",
              "      <td>536557</td>\n",
              "      <td>2010-12-01</td>\n",
              "      <td>SKULLS AND CROSSBONES WRAP</td>\n",
              "    </tr>\n",
              "    <tr>\n",
              "      <th>2038</th>\n",
              "      <td>536557</td>\n",
              "      <td>2010-12-01</td>\n",
              "      <td>POLYESTER FILLER PAD 45x30cm</td>\n",
              "    </tr>\n",
              "    <tr>\n",
              "      <th>2039</th>\n",
              "      <td>536557</td>\n",
              "      <td>2010-12-01</td>\n",
              "      <td>POLYESTER FILLER PAD 40x40cm</td>\n",
              "    </tr>\n",
              "    <tr>\n",
              "      <th>...</th>\n",
              "      <td>...</td>\n",
              "      <td>...</td>\n",
              "      <td>...</td>\n",
              "    </tr>\n",
              "    <tr>\n",
              "      <th>537749</th>\n",
              "      <td>581334</td>\n",
              "      <td>2011-12-08</td>\n",
              "      <td>HOME SWEET HOME HANGING HEART</td>\n",
              "    </tr>\n",
              "    <tr>\n",
              "      <th>537750</th>\n",
              "      <td>581334</td>\n",
              "      <td>2011-12-08</td>\n",
              "      <td>MINI CAKE STAND T-LIGHT HOLDER</td>\n",
              "    </tr>\n",
              "    <tr>\n",
              "      <th>537751</th>\n",
              "      <td>581334</td>\n",
              "      <td>2011-12-08</td>\n",
              "      <td>AIRLINE BAG VINTAGE TOKYO 78</td>\n",
              "    </tr>\n",
              "    <tr>\n",
              "      <th>537752</th>\n",
              "      <td>581334</td>\n",
              "      <td>2011-12-08</td>\n",
              "      <td>TEA COSY RED  STRIPE</td>\n",
              "    </tr>\n",
              "    <tr>\n",
              "      <th>537753</th>\n",
              "      <td>581334</td>\n",
              "      <td>2011-12-08</td>\n",
              "      <td>RED/CREAM STRIPE CUSHION COVER</td>\n",
              "    </tr>\n",
              "  </tbody>\n",
              "</table>\n",
              "<p>7983 rows × 3 columns</p>\n",
              "</div>\n",
              "      <button class=\"colab-df-convert\" onclick=\"convertToInteractive('df-31e8876f-8eda-41fc-995f-96543cbc9b2f')\"\n",
              "              title=\"Convert this dataframe to an interactive table.\"\n",
              "              style=\"display:none;\">\n",
              "        \n",
              "  <svg xmlns=\"http://www.w3.org/2000/svg\" height=\"24px\"viewBox=\"0 0 24 24\"\n",
              "       width=\"24px\">\n",
              "    <path d=\"M0 0h24v24H0V0z\" fill=\"none\"/>\n",
              "    <path d=\"M18.56 5.44l.94 2.06.94-2.06 2.06-.94-2.06-.94-.94-2.06-.94 2.06-2.06.94zm-11 1L8.5 8.5l.94-2.06 2.06-.94-2.06-.94L8.5 2.5l-.94 2.06-2.06.94zm10 10l.94 2.06.94-2.06 2.06-.94-2.06-.94-.94-2.06-.94 2.06-2.06.94z\"/><path d=\"M17.41 7.96l-1.37-1.37c-.4-.4-.92-.59-1.43-.59-.52 0-1.04.2-1.43.59L10.3 9.45l-7.72 7.72c-.78.78-.78 2.05 0 2.83L4 21.41c.39.39.9.59 1.41.59.51 0 1.02-.2 1.41-.59l7.78-7.78 2.81-2.81c.8-.78.8-2.07 0-2.86zM5.41 20L4 18.59l7.72-7.72 1.47 1.35L5.41 20z\"/>\n",
              "  </svg>\n",
              "      </button>\n",
              "      \n",
              "  <style>\n",
              "    .colab-df-container {\n",
              "      display:flex;\n",
              "      flex-wrap:wrap;\n",
              "      gap: 12px;\n",
              "    }\n",
              "\n",
              "    .colab-df-convert {\n",
              "      background-color: #E8F0FE;\n",
              "      border: none;\n",
              "      border-radius: 50%;\n",
              "      cursor: pointer;\n",
              "      display: none;\n",
              "      fill: #1967D2;\n",
              "      height: 32px;\n",
              "      padding: 0 0 0 0;\n",
              "      width: 32px;\n",
              "    }\n",
              "\n",
              "    .colab-df-convert:hover {\n",
              "      background-color: #E2EBFA;\n",
              "      box-shadow: 0px 1px 2px rgba(60, 64, 67, 0.3), 0px 1px 3px 1px rgba(60, 64, 67, 0.15);\n",
              "      fill: #174EA6;\n",
              "    }\n",
              "\n",
              "    [theme=dark] .colab-df-convert {\n",
              "      background-color: #3B4455;\n",
              "      fill: #D2E3FC;\n",
              "    }\n",
              "\n",
              "    [theme=dark] .colab-df-convert:hover {\n",
              "      background-color: #434B5C;\n",
              "      box-shadow: 0px 1px 3px 1px rgba(0, 0, 0, 0.15);\n",
              "      filter: drop-shadow(0px 1px 2px rgba(0, 0, 0, 0.3));\n",
              "      fill: #FFFFFF;\n",
              "    }\n",
              "  </style>\n",
              "\n",
              "      <script>\n",
              "        const buttonEl =\n",
              "          document.querySelector('#df-31e8876f-8eda-41fc-995f-96543cbc9b2f button.colab-df-convert');\n",
              "        buttonEl.style.display =\n",
              "          google.colab.kernel.accessAllowed ? 'block' : 'none';\n",
              "\n",
              "        async function convertToInteractive(key) {\n",
              "          const element = document.querySelector('#df-31e8876f-8eda-41fc-995f-96543cbc9b2f');\n",
              "          const dataTable =\n",
              "            await google.colab.kernel.invokeFunction('convertToInteractive',\n",
              "                                                     [key], {});\n",
              "          if (!dataTable) return;\n",
              "\n",
              "          const docLinkHtml = 'Like what you see? Visit the ' +\n",
              "            '<a target=\"_blank\" href=https://colab.research.google.com/notebooks/data_table.ipynb>data table notebook</a>'\n",
              "            + ' to learn more about interactive tables.';\n",
              "          element.innerHTML = '';\n",
              "          dataTable['output_type'] = 'display_data';\n",
              "          await google.colab.output.renderOutput(dataTable, element);\n",
              "          const docLink = document.createElement('div');\n",
              "          docLink.innerHTML = docLinkHtml;\n",
              "          element.appendChild(docLink);\n",
              "        }\n",
              "      </script>\n",
              "    </div>\n",
              "  </div>\n",
              "  "
            ]
          },
          "metadata": {},
          "execution_count": 20
        }
      ]
    },
    {
      "cell_type": "code",
      "source": [
        "new_onlineretail = new_onlineretail_df.groupby(by=['InvoiceNo','InvoiceDate'])['Description'].apply(np.array).reset_index()\n",
        "new_onlineretail = new_onlineretail[['InvoiceDate','Description']]\n",
        "new_onlineretail"
      ],
      "metadata": {
        "colab": {
          "base_uri": "https://localhost:8080/",
          "height": 423
        },
        "id": "5CeILDif_BMu",
        "outputId": "b86433af-3ca4-4ab3-8cb1-90974b1da869"
      },
      "execution_count": 21,
      "outputs": [
        {
          "output_type": "execute_result",
          "data": {
            "text/plain": [
              "    InvoiceDate                                        Description\n",
              "0    2010-12-01  [SKULLS AND CROSSBONES WRAP, POLYESTER FILLER ...\n",
              "1    2010-12-03  [12 RED ROSE PEG PLACE SETTINGS, APPLE BATH SP...\n",
              "2    2010-12-06  [CHILLI LIGHTS, METAL 4 HOOK HANGER FRENCH CHA...\n",
              "3    2010-12-09  [JUMBO BAG OWLS, JUMBO STORAGE BAG SUKI, VICTO...\n",
              "4    2010-12-14  [ART LIGHTS,FUNK MONKEY, CABIN BAG VINTAGE RET...\n",
              "..          ...                                                ...\n",
              "164  2011-11-04  [ASSTD FRUIT+FLOWERS FRIDGE MAGNETS, SET OF 3 ...\n",
              "165  2011-11-04                         [WHITE TRAVEL ALARM CLOCK]\n",
              "166  2011-11-20  [RED METAL BOX TOP SECRET, BLUE/CREAM STRIPE C...\n",
              "167  2011-11-23  [BLUE/CREAM STRIPE CUSHION COVER , CHRISTMAS T...\n",
              "168  2011-11-23                       [ENAMEL MEASURING JUG CREAM]\n",
              "\n",
              "[169 rows x 2 columns]"
            ],
            "text/html": [
              "\n",
              "  <div id=\"df-c1ed2c00-cf0f-4ad0-9333-ad9a1a4ed45a\">\n",
              "    <div class=\"colab-df-container\">\n",
              "      <div>\n",
              "<style scoped>\n",
              "    .dataframe tbody tr th:only-of-type {\n",
              "        vertical-align: middle;\n",
              "    }\n",
              "\n",
              "    .dataframe tbody tr th {\n",
              "        vertical-align: top;\n",
              "    }\n",
              "\n",
              "    .dataframe thead th {\n",
              "        text-align: right;\n",
              "    }\n",
              "</style>\n",
              "<table border=\"1\" class=\"dataframe\">\n",
              "  <thead>\n",
              "    <tr style=\"text-align: right;\">\n",
              "      <th></th>\n",
              "      <th>InvoiceDate</th>\n",
              "      <th>Description</th>\n",
              "    </tr>\n",
              "  </thead>\n",
              "  <tbody>\n",
              "    <tr>\n",
              "      <th>0</th>\n",
              "      <td>2010-12-01</td>\n",
              "      <td>[SKULLS AND CROSSBONES WRAP, POLYESTER FILLER ...</td>\n",
              "    </tr>\n",
              "    <tr>\n",
              "      <th>1</th>\n",
              "      <td>2010-12-03</td>\n",
              "      <td>[12 RED ROSE PEG PLACE SETTINGS, APPLE BATH SP...</td>\n",
              "    </tr>\n",
              "    <tr>\n",
              "      <th>2</th>\n",
              "      <td>2010-12-06</td>\n",
              "      <td>[CHILLI LIGHTS, METAL 4 HOOK HANGER FRENCH CHA...</td>\n",
              "    </tr>\n",
              "    <tr>\n",
              "      <th>3</th>\n",
              "      <td>2010-12-09</td>\n",
              "      <td>[JUMBO BAG OWLS, JUMBO STORAGE BAG SUKI, VICTO...</td>\n",
              "    </tr>\n",
              "    <tr>\n",
              "      <th>4</th>\n",
              "      <td>2010-12-14</td>\n",
              "      <td>[ART LIGHTS,FUNK MONKEY, CABIN BAG VINTAGE RET...</td>\n",
              "    </tr>\n",
              "    <tr>\n",
              "      <th>...</th>\n",
              "      <td>...</td>\n",
              "      <td>...</td>\n",
              "    </tr>\n",
              "    <tr>\n",
              "      <th>164</th>\n",
              "      <td>2011-11-04</td>\n",
              "      <td>[ASSTD FRUIT+FLOWERS FRIDGE MAGNETS, SET OF 3 ...</td>\n",
              "    </tr>\n",
              "    <tr>\n",
              "      <th>165</th>\n",
              "      <td>2011-11-04</td>\n",
              "      <td>[WHITE TRAVEL ALARM CLOCK]</td>\n",
              "    </tr>\n",
              "    <tr>\n",
              "      <th>166</th>\n",
              "      <td>2011-11-20</td>\n",
              "      <td>[RED METAL BOX TOP SECRET, BLUE/CREAM STRIPE C...</td>\n",
              "    </tr>\n",
              "    <tr>\n",
              "      <th>167</th>\n",
              "      <td>2011-11-23</td>\n",
              "      <td>[BLUE/CREAM STRIPE CUSHION COVER , CHRISTMAS T...</td>\n",
              "    </tr>\n",
              "    <tr>\n",
              "      <th>168</th>\n",
              "      <td>2011-11-23</td>\n",
              "      <td>[ENAMEL MEASURING JUG CREAM]</td>\n",
              "    </tr>\n",
              "  </tbody>\n",
              "</table>\n",
              "<p>169 rows × 2 columns</p>\n",
              "</div>\n",
              "      <button class=\"colab-df-convert\" onclick=\"convertToInteractive('df-c1ed2c00-cf0f-4ad0-9333-ad9a1a4ed45a')\"\n",
              "              title=\"Convert this dataframe to an interactive table.\"\n",
              "              style=\"display:none;\">\n",
              "        \n",
              "  <svg xmlns=\"http://www.w3.org/2000/svg\" height=\"24px\"viewBox=\"0 0 24 24\"\n",
              "       width=\"24px\">\n",
              "    <path d=\"M0 0h24v24H0V0z\" fill=\"none\"/>\n",
              "    <path d=\"M18.56 5.44l.94 2.06.94-2.06 2.06-.94-2.06-.94-.94-2.06-.94 2.06-2.06.94zm-11 1L8.5 8.5l.94-2.06 2.06-.94-2.06-.94L8.5 2.5l-.94 2.06-2.06.94zm10 10l.94 2.06.94-2.06 2.06-.94-2.06-.94-.94-2.06-.94 2.06-2.06.94z\"/><path d=\"M17.41 7.96l-1.37-1.37c-.4-.4-.92-.59-1.43-.59-.52 0-1.04.2-1.43.59L10.3 9.45l-7.72 7.72c-.78.78-.78 2.05 0 2.83L4 21.41c.39.39.9.59 1.41.59.51 0 1.02-.2 1.41-.59l7.78-7.78 2.81-2.81c.8-.78.8-2.07 0-2.86zM5.41 20L4 18.59l7.72-7.72 1.47 1.35L5.41 20z\"/>\n",
              "  </svg>\n",
              "      </button>\n",
              "      \n",
              "  <style>\n",
              "    .colab-df-container {\n",
              "      display:flex;\n",
              "      flex-wrap:wrap;\n",
              "      gap: 12px;\n",
              "    }\n",
              "\n",
              "    .colab-df-convert {\n",
              "      background-color: #E8F0FE;\n",
              "      border: none;\n",
              "      border-radius: 50%;\n",
              "      cursor: pointer;\n",
              "      display: none;\n",
              "      fill: #1967D2;\n",
              "      height: 32px;\n",
              "      padding: 0 0 0 0;\n",
              "      width: 32px;\n",
              "    }\n",
              "\n",
              "    .colab-df-convert:hover {\n",
              "      background-color: #E2EBFA;\n",
              "      box-shadow: 0px 1px 2px rgba(60, 64, 67, 0.3), 0px 1px 3px 1px rgba(60, 64, 67, 0.15);\n",
              "      fill: #174EA6;\n",
              "    }\n",
              "\n",
              "    [theme=dark] .colab-df-convert {\n",
              "      background-color: #3B4455;\n",
              "      fill: #D2E3FC;\n",
              "    }\n",
              "\n",
              "    [theme=dark] .colab-df-convert:hover {\n",
              "      background-color: #434B5C;\n",
              "      box-shadow: 0px 1px 3px 1px rgba(0, 0, 0, 0.15);\n",
              "      filter: drop-shadow(0px 1px 2px rgba(0, 0, 0, 0.3));\n",
              "      fill: #FFFFFF;\n",
              "    }\n",
              "  </style>\n",
              "\n",
              "      <script>\n",
              "        const buttonEl =\n",
              "          document.querySelector('#df-c1ed2c00-cf0f-4ad0-9333-ad9a1a4ed45a button.colab-df-convert');\n",
              "        buttonEl.style.display =\n",
              "          google.colab.kernel.accessAllowed ? 'block' : 'none';\n",
              "\n",
              "        async function convertToInteractive(key) {\n",
              "          const element = document.querySelector('#df-c1ed2c00-cf0f-4ad0-9333-ad9a1a4ed45a');\n",
              "          const dataTable =\n",
              "            await google.colab.kernel.invokeFunction('convertToInteractive',\n",
              "                                                     [key], {});\n",
              "          if (!dataTable) return;\n",
              "\n",
              "          const docLinkHtml = 'Like what you see? Visit the ' +\n",
              "            '<a target=\"_blank\" href=https://colab.research.google.com/notebooks/data_table.ipynb>data table notebook</a>'\n",
              "            + ' to learn more about interactive tables.';\n",
              "          element.innerHTML = '';\n",
              "          dataTable['output_type'] = 'display_data';\n",
              "          await google.colab.output.renderOutput(dataTable, element);\n",
              "          const docLink = document.createElement('div');\n",
              "          docLink.innerHTML = docLinkHtml;\n",
              "          element.appendChild(docLink);\n",
              "        }\n",
              "      </script>\n",
              "    </div>\n",
              "  </div>\n",
              "  "
            ]
          },
          "metadata": {},
          "execution_count": 21
        }
      ]
    },
    {
      "cell_type": "code",
      "source": [
        "description_arr = []\n",
        "unqiue_date = list(new_onlineretail['InvoiceDate'].unique())\n",
        "for date in unqiue_date:\n",
        "    desc = new_onlineretail[new_onlineretail['InvoiceDate'] == date]['Description']\n",
        "    l = []\n",
        "    for d in desc:\n",
        "        l.append(d)\n",
        "    description_arr.append(l)\n",
        "\n",
        "for idx1,i in enumerate(description_arr):\n",
        "    for idx2,j in enumerate(i):\n",
        "      description_arr[idx1][idx2] = description_arr[idx1][idx2].tolist()"
      ],
      "metadata": {
        "id": "8sT2Fwf2_EcH"
      },
      "execution_count": 22,
      "outputs": []
    },
    {
      "cell_type": "code",
      "source": [
        "df = sc.parallelize([Row(sequence=description_arr[0]),\n",
        "                     Row(sequence=description_arr[1]),\n",
        "                     Row(sequence=description_arr[2]),\n",
        "                     Row(sequence=description_arr[3]),\n",
        "                     Row(sequence=description_arr[4]),\n",
        "                     Row(sequence=description_arr[5]),\n",
        "                     Row(sequence=description_arr[6]),\n",
        "                     Row(sequence=description_arr[7]),\n",
        "                     Row(sequence=description_arr[8]),\n",
        "                     Row(sequence=description_arr[9]),\n",
        "                     Row(sequence=description_arr[10]),\n",
        "                     Row(sequence=description_arr[11]),\n",
        "                     Row(sequence=description_arr[12]),\n",
        "                     Row(sequence=description_arr[13]),\n",
        "                     Row(sequence=description_arr[14]),\n",
        "                     Row(sequence=description_arr[15]),\n",
        "                     Row(sequence=description_arr[16]),\n",
        "                     Row(sequence=description_arr[17]),\n",
        "                     Row(sequence=description_arr[18]),\n",
        "                     Row(sequence=description_arr[19]),\n",
        "                     Row(sequence=description_arr[20]),\n",
        "                     Row(sequence=description_arr[21]),\n",
        "                     Row(sequence=description_arr[22]),\n",
        "                     Row(sequence=description_arr[23]),\n",
        "                     Row(sequence=description_arr[24]),\n",
        "                     Row(sequence=description_arr[25]),\n",
        "                     Row(sequence=description_arr[26]),\n",
        "                     Row(sequence=description_arr[27]),\n",
        "                     Row(sequence=description_arr[28]),\n",
        "                     Row(sequence=description_arr[29]),\n",
        "                     Row(sequence=description_arr[30]),\n",
        "                     Row(sequence=description_arr[31]),\n",
        "                     Row(sequence=description_arr[32]),\n",
        "                     Row(sequence=description_arr[33]),\n",
        "                     Row(sequence=description_arr[34]),\n",
        "                     Row(sequence=description_arr[35]),\n",
        "                     Row(sequence=description_arr[36]),\n",
        "                     Row(sequence=description_arr[37]),\n",
        "                     Row(sequence=description_arr[38]),\n",
        "                     Row(sequence=description_arr[39]),\n",
        "                     Row(sequence=description_arr[40]),\n",
        "                     Row(sequence=description_arr[41]),\n",
        "                     Row(sequence=description_arr[42]),\n",
        "                     Row(sequence=description_arr[43]),\n",
        "                     Row(sequence=description_arr[44]),\n",
        "                     Row(sequence=description_arr[45]),\n",
        "                     Row(sequence=description_arr[46]),\n",
        "                     Row(sequence=description_arr[47]),\n",
        "                     Row(sequence=description_arr[48]),\n",
        "                     Row(sequence=description_arr[49]),\n",
        "                     Row(sequence=description_arr[50]),\n",
        "                     Row(sequence=description_arr[51]),\n",
        "                     Row(sequence=description_arr[52]),\n",
        "                     Row(sequence=description_arr[53]),\n",
        "                     Row(sequence=description_arr[54]),\n",
        "                     Row(sequence=description_arr[55]),\n",
        "                     Row(sequence=description_arr[56]),\n",
        "                     Row(sequence=description_arr[57]),\n",
        "                     Row(sequence=description_arr[58]),\n",
        "                     Row(sequence=description_arr[59]),\n",
        "                     Row(sequence=description_arr[60]),\n",
        "                     Row(sequence=description_arr[61]),\n",
        "                     Row(sequence=description_arr[62]),\n",
        "                     Row(sequence=description_arr[63]),\n",
        "                     Row(sequence=description_arr[64]),\n",
        "                     Row(sequence=description_arr[65]),\n",
        "                     Row(sequence=description_arr[66]),\n",
        "                     Row(sequence=description_arr[67]),\n",
        "                     Row(sequence=description_arr[68]),\n",
        "                     Row(sequence=description_arr[69]),\n",
        "                     Row(sequence=description_arr[70]),\n",
        "                     Row(sequence=description_arr[71]),\n",
        "                     Row(sequence=description_arr[72]),\n",
        "                     Row(sequence=description_arr[73]),\n",
        "                     Row(sequence=description_arr[74]),\n",
        "                     Row(sequence=description_arr[75]),\n",
        "                     Row(sequence=description_arr[76]),\n",
        "                     Row(sequence=description_arr[78]),\n",
        "                     Row(sequence=description_arr[79]),\n",
        "                     Row(sequence=description_arr[80]),\n",
        "                     Row(sequence=description_arr[81]),\n",
        "                     Row(sequence=description_arr[82]),\n",
        "                     Row(sequence=description_arr[83]),\n",
        "                     Row(sequence=description_arr[84]),\n",
        "                     Row(sequence=description_arr[85]),\n",
        "                     Row(sequence=description_arr[86]),\n",
        "                     Row(sequence=description_arr[87]),\n",
        "                     Row(sequence=description_arr[88]),\n",
        "                     Row(sequence=description_arr[89]),\n",
        "                     Row(sequence=description_arr[90]),\n",
        "                     Row(sequence=description_arr[91]),\n",
        "                     Row(sequence=description_arr[92]),\n",
        "                     Row(sequence=description_arr[93]),\n",
        "                     Row(sequence=description_arr[94]),\n",
        "                     Row(sequence=description_arr[95]),\n",
        "                     Row(sequence=description_arr[96]),\n",
        "                     Row(sequence=description_arr[97]),\n",
        "                     Row(sequence=description_arr[98]),\n",
        "                     Row(sequence=description_arr[99]),\n",
        "                     Row(sequence=description_arr[100]),\n",
        "                     Row(sequence=description_arr[101]),\n",
        "                     Row(sequence=description_arr[102]),\n",
        "                     Row(sequence=description_arr[103]),\n",
        "                     Row(sequence=description_arr[104]),\n",
        "                     Row(sequence=description_arr[105]),\n",
        "                     Row(sequence=description_arr[106]),\n",
        "                     Row(sequence=description_arr[107]),\n",
        "                     Row(sequence=description_arr[108]),\n",
        "                     Row(sequence=description_arr[109]),\n",
        "                     Row(sequence=description_arr[110]),\n",
        "                     Row(sequence=description_arr[111]),\n",
        "                     Row(sequence=description_arr[112])\n",
        "                    ]).toDF()"
      ],
      "metadata": {
        "id": "rAmWX_lQCdzm"
      },
      "execution_count": 23,
      "outputs": []
    },
    {
      "cell_type": "code",
      "source": [
        "df.printSchema()"
      ],
      "metadata": {
        "colab": {
          "base_uri": "https://localhost:8080/"
        },
        "id": "3VYgvmZ1R3_s",
        "outputId": "f2bceb1b-018a-4cb2-d638-2b4ba007d7fc"
      },
      "execution_count": 24,
      "outputs": [
        {
          "output_type": "stream",
          "name": "stdout",
          "text": [
            "root\n",
            " |-- sequence: array (nullable = true)\n",
            " |    |-- element: array (containsNull = true)\n",
            " |    |    |-- element: string (containsNull = true)\n",
            "\n"
          ]
        }
      ]
    },
    {
      "cell_type": "code",
      "source": [
        "df.show(truncate=False)"
      ],
      "metadata": {
        "colab": {
          "base_uri": "https://localhost:8080/"
        },
        "id": "Kq8DNqxRNJQt",
        "outputId": "4119c3e1-acdf-4b31-b95c-fb09776a71b1"
      },
      "execution_count": 25,
      "outputs": [
        {
          "output_type": "stream",
          "name": "stdout",
          "text": [
            "+-------------------------------------------------------------------------------------------------------------------------------------------------------------------------------------------------------------------------------------------------------------------------------------------------------------------------------------------------------------------------------------------------------------------------------------------------------------------------------------------------------------------------------------------------------------------------------------------------------------------------------------------------------------------------------------------------------------------------------------------------------------------------------------------------------------------------------------------------------------------------------------------------------------------------------------------------------------------------------------------------------------------------------------------------------------------------------------------------------------------------------------------------------------------------------------------------------------------------------------------------------------------------------------------------------------------------------------------------------------------------------------------------------------------------------------------------------------------------------------------------------------------------------------------------------------------------------------------------------------------------------------------------------------------------------------------------------------------------------------------------------------------------------------------------------------------------------------------------------------------------------------------------------------------------------------------------------------------------------------------------------------------------------------------------------------------------------------------------+\n",
            "|sequence                                                                                                                                                                                                                                                                                                                                                                                                                                                                                                                                                                                                                                                                                                                                                                                                                                                                                                                                                                                                                                                                                                                                                                                                                                                                                                                                                                                                                                                                                                                                                                                                                                                                                                                                                                                                                                                                                                                                                                                                                                                                                         |\n",
            "+-------------------------------------------------------------------------------------------------------------------------------------------------------------------------------------------------------------------------------------------------------------------------------------------------------------------------------------------------------------------------------------------------------------------------------------------------------------------------------------------------------------------------------------------------------------------------------------------------------------------------------------------------------------------------------------------------------------------------------------------------------------------------------------------------------------------------------------------------------------------------------------------------------------------------------------------------------------------------------------------------------------------------------------------------------------------------------------------------------------------------------------------------------------------------------------------------------------------------------------------------------------------------------------------------------------------------------------------------------------------------------------------------------------------------------------------------------------------------------------------------------------------------------------------------------------------------------------------------------------------------------------------------------------------------------------------------------------------------------------------------------------------------------------------------------------------------------------------------------------------------------------------------------------------------------------------------------------------------------------------------------------------------------------------------------------------------------------------------+\n",
            "|[[SKULLS AND CROSSBONES WRAP, POLYESTER FILLER PAD 45x30cm, POLYESTER FILLER PAD 40x40cm, 3D CHRISTMAS STAMPS STICKERS , VICTORIAN SEWING BOX LARGE, RED RETROSPOT OVEN GLOVE DOUBLE, PINK FLOWER FABRIC PONY, METAL 4 HOOK HANGER FRENCH CHATEAU, BIRTHDAY PARTY CORDON BARRIER TAPE, CAMOUFLAGE DESIGN TEDDY, TV DINNER TRAY AIR HOSTESS , SUKI  SHOULDER BAG, BLUE SPOT CERAMIC DRAWER KNOB, DISCO BALL CHRISTMAS DECORATION, WHITE SPOT RED CERAMIC DRAWER KNOB, PLASTERS IN TIN SKULLS, RECORD FRAME 7\" SINGLE SIZE , PINK CREAM FELT CRAFT TRINKET BOX , FELTCRAFT CUSHION OWL, FELTCRAFT CUSHION RABBIT, ALARM CLOCK BAKELIKE IVORY, ASSORTED COLOUR MINI CASES, SQUARECUSHION COVER PINK UNION FLAG, CUSHION COVER PINK UNION JACK, CREAM SWEETHEART LETTER RACK, FOUR HOOK  WHITE LOVEBIRDS, PINK HEART DOTS HOT WATER BOTTLE, HOT WATER BOTTLE TEA AND SYMPATHY, RETROSPOT HEART HOT WATER BOTTLE, RED WOOLLY HOTTIE WHITE HEART., FRENCH BLUE METAL DOOR SIGN 3, FRENCH BLUE METAL DOOR SIGN No, BABUSHKA LIGHTS STRING OF 10, SET OF 3 BABUSHKA STACKING TINS, WHITE SKULL HOT WATER BOTTLE , KNITTED UNION FLAG HOT WATER BOTTLE, HOT WATER BOTTLE BABUSHKA , CHOCOLATE HOT WATER BOTTLE, HOT WATER BOTTLE I AM SO POORLY, RETROSPOT HEART HOT WATER BOTTLE, SCOTTIE DOG HOT WATER BOTTLE, RECIPE BOX RETROSPOT , RECIPE BOX PANTRY YELLOW DESIGN, VICTORIAN SEWING BOX SMALL , CHRISTMAS LIGHTS 10 REINDEER, WOOD BLACK BOARD ANT WHITE FINISH, BEACH HUT KEY CABINET, HOME SMALL WOOD LETTERS, SET OF 3 BABUSHKA STACKING TINS, SMALL PURPLE BABUSHKA NOTEBOOK , CHERRY BLOSSOM PASSPORT COVER, SILK PURSE BABUSHKA RED, HOT WATER BOTTLE TEA AND SYMPATHY, SMALL YELLOW BABUSHKA NOTEBOOK , RETRO MOD TRAY, SWEETHEART WIRE MAGAZINE RACK, CARDHOLDER HOLLY WREATH METAL, SILVER CHRISTMAS TREE BAUBLE STAND , CHILLI LIGHTS, WICKER STAR , CHRISTMAS TOILET ROLL, HEART OF WICKER LARGE, SWEETHEART RECIPE BOOK STAND, APPLE BATH SPONGE, OVERNIGHT BAG VINTAGE ROSE PAISLEY], [HAND WARMER RED RETROSPOT, CHARLOTTE BAG SUKI DESIGN]]                                          |\n",
            "|[[12 RED ROSE PEG PLACE SETTINGS, APPLE BATH SPONGE, WHITE SPOT BLUE CERAMIC DRAWER KNOB, PAPER CHAIN KIT VINTAGE CHRISTMAS, BLUE CIRCLES DESIGN MONKEY DOLL, STRAWBERRY BATH SPONGE , VINTAGE PHOTO ALBUM PARIS DAYS, RED RETROSPOT WRAP , DISCO BALL CHRISTMAS DECORATION, RECORD FRAME 7\" SINGLE SIZE , MIDNIGHT GLAMOUR SCARF KNITTING KIT, FRAPPUCINO SCARF KNITTING KIT, SET 12 KIDS  WHITE CHALK STICKS, SET 12 KIDS COLOUR  CHALK STICKS, ALARM CLOCK BAKELIKE PINK, 3 TIER CAKE TIN GREEN AND CREAM, SANDWICH BATH SPONGE, BIRD HOUSE HOT WATER BOTTLE, ENGLISH ROSE HOT WATER BOTTLE, SKULL LUNCH BOX WITH CUTLERY , WOODLAND CHARLOTTE BAG, CHILLI LIGHTS, SET 12 RETRO WHITE CHALK STICKS, RED RETROSPOT APRON , DELUXE SEWING KIT , HAND WARMER SCOTTY DOG DESIGN, SILVER CHRISTMAS TREE BAUBLE STAND , SET OF 3 BABUSHKA STACKING TINS, SHOE SHINE BOX ], [BEACH HUT KEY CABINET, DOLLY GIRL LUNCH BOX]]                                                                                                                                                                                                                                                                                                                                                                                                                                                                                                                                                                                                                                                                                                                                                                                                                                                                                                                                                                                                                                                                                                                                                                           |\n",
            "|[[CHILLI LIGHTS, METAL 4 HOOK HANGER FRENCH CHATEAU, WOOD BLACK BOARD ANT WHITE FINISH, PLASTERS IN TIN STRONGMAN, PLASTERS IN TIN SPACEBOY, PLASTERS IN TIN CIRCUS PARADE , BLACK/BLUE POLKADOT UMBRELLA, PURPLE PAPER PARASOL, BLUE PAPER PARASOL , SANDWICH BATH SPONGE, LOVE LARGE WOOD LETTERS , ART LIGHTS,FUNK MONKEY, HOT WATER BOTTLE I AM SO POORLY, JUMBO BAG OWLS, JUMBO BAG SPACEBOY DESIGN, JUMBO STORAGE BAG SKULLS, CHARLOTTE BAG SUKI DESIGN, SUKI  SHOULDER BAG, JUMBO STORAGE BAG SUKI, KEY CABINET MA CAMPAGNE, BLUE STRIPE CERAMIC DRAWER KNOB, SMALL PURPLE BABUSHKA NOTEBOOK , WHITE SKULL HOT WATER BOTTLE , CHARLIE + LOLA BISCUITS TINS, SMALL FOLKART STAR CHRISTMAS DEC, RIBBON REEL CHRISTMAS SOCK BAUBLE, WHITE SKULL HOT WATER BOTTLE , HOT WATER BOTTLE TEA AND SYMPATHY, RED RETROSPOT ROUND CAKE TINS, CHICK GREY HOT WATER BOTTLE, ADVENT CALENDAR GINGHAM SACK, SET OF 3 BLACK FLYING DUCKS, PAPER BUNTING WHITE LACE, RECORD FRAME 7\" SINGLE SIZE , FRENCH GARDEN SIGN BLUE METAL, GREEN CHRISTMAS TREE STRING 20LIGHT, 3 TIER CAKE TIN GREEN AND CREAM, SILVER CHRISTMAS TREE BAUBLE STAND , CALENDAR PAPER CUT DESIGN, VINTAGE UNION JACK MEMOBOARD, FELTCRAFT CUSHION OWL, PINK CREAM FELT CRAFT TRINKET BOX , SHOE SHINE BOX , BROCANTE COAT RACK, PHOTO CUBE, DISCO BALL CHRISTMAS DECORATION]]                                                                                                                                                                                                                                                                                                                                                                                                                                                                                                                                                                                                                                                                                                                                                        |\n",
            "|[[JUMBO BAG OWLS, JUMBO STORAGE BAG SUKI, VICTORIAN SEWING BOX LARGE, BABUSHKA LIGHTS STRING OF 10, ENAMEL COLANDER CREAM, FRENCH BLUE METAL DOOR SIGN 4, AIRLINE BAG VINTAGE TOKYO 78, PACK OF 12 SKULL TISSUES, CIRCUS PARADE LUNCH BOX , PLASTERS IN TIN SPACEBOY, FANNY'S REST STOPMETAL SIGN, BEWARE OF THE CAT METAL SIGN , PINK BLUE FELT CRAFT TRINKET BOX, ENGLISH ROSE SPIRIT LEVEL , BLACK MINI TAPE MEASURE , PINK UNION JACK  LUGGAGE TAG, WHITE SKULL HOT WATER BOTTLE , FELTCRAFT CUSHION RABBIT, FELTCRAFT CUSHION BUTTERFLY, AREA PATROLLED METAL SIGN, DOORMAT RESPECTABLE HOUSE, DINOSAURS  WRITING SET , RED WOOLLY HOTTIE WHITE HEART., WHITE SKULL HOT WATER BOTTLE , HEART SHAPE WIRELESS DOORBELL, STRAWBERRY BATH SPONGE , SANDWICH BATH SPONGE, APPLE BATH SPONGE, PINK ROSE WASHBAG, SHOE SHINE BOX , SET OF 3 COLOURED  FLYING DUCKS, BISCUIT TIN VINTAGE GREEN, METAL 4 HOOK HANGER FRENCH CHATEAU, FAIRY CAKE DESIGN UMBRELLA, SPACEBOY LUNCH BOX , LUNCH BOX I LOVE LONDON, BLACK RECORD COVER FRAME, SMALL PURPLE BABUSHKA NOTEBOOK , SMALL YELLOW BABUSHKA NOTEBOOK , GLITTER CHRISTMAS TREE WITH BELLS, PHOTO CUBE, CHRISTMAS LIGHTS 10 SANTAS , SMALL RED BABUSHKA NOTEBOOK , DISCO BALL CHRISTMAS DECORATION, CREAM WALL PLANTER HEART SHAPED, VICTORIAN SEWING BOX SMALL ]]                                                                                                                                                                                                                                                                                                                                                                                                                                                                                                                                                                                                                                                                                                                                                                                 |\n",
            "|[[ART LIGHTS,FUNK MONKEY, CABIN BAG VINTAGE RETROSPOT, CHILLI LIGHTS, AIRLINE BAG VINTAGE TOKYO 78, VICTORIAN SEWING BOX SMALL , SUKI  SHOULDER BAG, RECORD FRAME 7\" SINGLE SIZE , CHARLOTTE BAG SUKI DESIGN, BLACK RECORD COVER FRAME, SKULLS AND CROSSBONES WRAP, HEART SHAPE WIRELESS DOORBELL, BLUE CIRCLES DESIGN MONKEY DOLL, BABUSHKA LIGHTS STRING OF 10, WICKER STAR , MA CAMPAGNE CUTLERY BOX, ALARM CLOCK BAKELIKE GREEN, CREAM CUPID HEARTS COAT HANGER, PHOTO CUBE, VINTAGE PHOTO ALBUM PARIS DAYS, VINTAGE UNION JACK MEMOBOARD, DELUXE SEWING KIT , WHITE SKULL HOT WATER BOTTLE , PINK CREAM FELT CRAFT TRINKET BOX , CHOCOLATE HOT WATER BOTTLE, BEACH HUT KEY CABINET, WOOD 2 DRAWER CABINET WHITE FINISH, DISCO BALL CHRISTMAS DECORATION, DOG BOWL VINTAGE CREAM, LUNCH BOX I LOVE LONDON, FELTCRAFT PRINCESS CHARLOTTE DOLL, PINK ROSE WASHBAG, BIRTHDAY PARTY CORDON BARRIER TAPE, JUMBO BAG OWLS, JUMBO BAG PINK VINTAGE PAISLEY, JUMBO BAG PINK POLKADOT, DOORMAT AIRMAIL , TURQ ICE CREAM BUM BAG , SKULL SHOULDER BAG, SET 7 BABUSHKA NESTING BOXES, SET OF 20 VINTAGE CHRISTMAS NAPKINS, SMALL PURPLE BABUSHKA NOTEBOOK , SET OF 3 COLOURED  FLYING DUCKS, SANDWICH BATH SPONGE, CHRISTMAS TOILET ROLL, FRYING PAN RED RETROSPOT, PINK FAIRY CAKE CHILDRENS APRON, RED STAR CARD HOLDER, CARDHOLDER GINGHAM STAR, BLACK/BLUE POLKADOT UMBRELLA, EUCALYPTUS & PINECONE  WREATH, DISCO BALL CHRISTMAS DECORATION, SKULLS DESIGN FLANNEL, 3 TIER CAKE TIN GREEN AND CREAM, REX CASH+CARRY JUMBO SHOPPER, SMALL RED BABUSHKA NOTEBOOK , SMALL YELLOW BABUSHKA NOTEBOOK , LARGE YELLOW BABUSHKA NOTEBOOK , LARGE RED BABUSHKA NOTEBOOK , WHITE SPOT RED CERAMIC DRAWER KNOB, WHITE SPOT BLUE CERAMIC DRAWER KNOB, CALENDAR IN SEASON DESIGN, STRAWBERRY CHARLOTTE BAG, 12 PENCILS SMALL TUBE SKULL, 12 PENCILS SMALL TUBE RED RETROSPOT, FELTCRAFT BUTTERFLY HEARTS, WOODEN REGATTA BUNTING, RIBBON REEL CHRISTMAS SOCK BAUBLE]]                                                                                                                                           |\n",
            "|[[LOVE HEART NAPKIN BOX , WRAP I LOVE LONDON , 12 IVORY ROSE PEG PLACE SETTINGS, STRAWBERRY BATH SPONGE , APPLE BATH SPONGE, SANDWICH BATH SPONGE, EAU DE NILE JEWELLED PHOTOFRAME, VINTAGE UNION JACK MEMOBOARD, BUTTON BOX , DOCTOR'S BAG SOFT TOY, OVEN MITT APPLES DESIGN, BROWN CHECK CAT DOORSTOP , S/15 SILVER GLASS BAUBLES IN BAG, PHOTO CUBE, SWEETHEART RECIPE BOOK STAND, JUMBO BAG PINK POLKADOT, AIRLINE BAG VINTAGE TOKYO 78, HEART SHAPE WIRELESS DOORBELL, FELTCRAFT DOLL MARIA, PAPER CHAIN KIT VINTAGE CHRISTMAS, SKULL SHOULDER BAG, JUMBO BAG RED RETROSPOT, HOT BATHS SOAP HOLDER, PINK 3 PIECE POLKADOT CUTLERY SET, DISCO BALL CHRISTMAS DECORATION, BOX OF 24 COCKTAIL PARASOLS, SMALL YELLOW BABUSHKA NOTEBOOK , SMALL RED BABUSHKA NOTEBOOK , CHILLI LIGHTS, SHOE SHINE BOX , BREAD BIN DINER STYLE PINK, WOODEN FRAME ANTIQUE WHITE , VINYL RECORD FRAME SILVER, WOOD BLACK BOARD ANT WHITE FINISH]]                                                                                                                                                                                                                                                                                                                                                                                                                                                                                                                                                                                                                                                                                                                                                                                                                                                                                                                                                                                                                                                                                                                                                                 |\n",
            "|[[DISCO BALL CHRISTMAS DECORATION, SET 10 LIGHTS NIGHT OWL, SWEETHEART CAKESTAND 3 TIER, STRAWBERRY SHOPPER BAG, RED RETROSPOT SHOPPER BAG, PARTY FOOD SHOPPER BAG, Manual, WHITE SPOT BLUE CERAMIC DRAWER KNOB, BLUE SPOT CERAMIC DRAWER KNOB, RED STRIPE CERAMIC DRAWER KNOB, WHITE SPOT RED CERAMIC DRAWER KNOB, BLUE STRIPE CERAMIC DRAWER KNOB, BAG OF SILVER STONES, CHRISTMAS HANGING HEART WITH BELL, CHRISTMAS HANGING STAR WITH BELL, CHRISTMAS HANGING TREE WITH BELL, WOODEN ADVENT CALENDAR CREAM, WOODEN FRAME ANTIQUE WHITE , STRAWBERRY CHARLOTTE BAG, CHARLOTTE BAG SUKI DESIGN, SUKI  SHOULDER BAG, JUMBO SHOPPER VINTAGE RED PAISLEY, JUMBO BAG SCANDINAVIAN PAISLEY, JUMBO BAG WOODLAND ANIMALS, JUMBO BAG SPACEBOY DESIGN, JUMBO BAG OWLS, JUMBO BAG RED RETROSPOT, CARDHOLDER GINGHAM STAR, WICKER STAR , HOME SWEET HOME MUG, SPACEBOY TV DINNER TRAY, TV DINNER TRAY DOLLY GIRL, FAWN BLUE HOT WATER BOTTLE, SET OF 3 CAKE TINS PANTRY DESIGN , SET OF 3 CAKE TINS SKETCHBOOK, DOLLY GIRL LUNCH BOX, SET OF 6 SPICE TINS PANTRY DESIGN, SET OF 6 HERB TINS SKETCHBOOK, WOODLAND DESIGN  COTTON TOTE BAG, BLUE 3 PIECE POLKADOT CUTLERY SET, QUEEN OF THE SKIES HOLIDAY PURSE , QUEEN OF THE SKIES PASSPORT COVER , JAZZ HEARTS ADDRESS BOOK, ENGLISH ROSE NOTEBOOK A7 SIZE, BLACK AND WHITE CAT BOWL, ASSORTED TUTTI FRUTTI  FOB NOTEBOOK, HOME SWEET HOME METAL SIGN , FOUR HOOK  WHITE LOVEBIRDS, BOX OF 24 COCKTAIL PARASOLS, QUEEN OF SKIES LUGGAGE TAG, FRENCH BLUE METAL DOOR SIGN 6, SET/6 TURQUOISE BUTTERFLY T-LIGHTS, CHILLI LIGHTS, ASSORTED COLOUR LIZARD SUCTION HOOK, ALARM CLOCK BAKELIKE PINK, ALARM CLOCK BAKELIKE GREEN, AIRLINE BAG VINTAGE JET SET RED, EMPIRE GIFT WRAP, GENTLEMAN SHIRT REPAIR KIT , SEWING SUSAN 21 NEEDLE SET, CAKE STAND 3 TIER MAGIC GARDEN, HOME SWEET HOME METAL SIGN , NO SINGING METAL SIGN, BEACH HUT KEY CABINET, VICTORIAN SEWING BOX LARGE, HEART SHAPE WIRELESS DOORBELL, BLACK RECORD COVER FRAME, VINYL RECORD FRAME SILVER, RELAX LARGE WOOD LETTERS, FANNY'S REST STOPMETAL SIGN, DOORMAT SPOTTY HOME SWEET HOME]]|\n",
            "|[[CHILLI LIGHTS, HOT WATER BOTTLE BABUSHKA , SET/20 RED RETROSPOT PAPER NAPKINS , SET/20 STRAWBERRY PAPER NAPKINS , SMALL PURPLE BABUSHKA NOTEBOOK , 4 BURGUNDY WINE DINNER CANDLES, GLITTER HANGING BUTTERFLY STRING, ASSORTED MONKEY SUCTION CUP HOOK, ASSORTED MONKEY SUCTION CUP HOOK, PACK OF 60 MUSHROOM CAKE CASES, 60 TEATIME FAIRY CAKE CASES, RED FLORAL FELTCRAFT SHOULDER BAG, PINK FLORAL FELTCRAFT SHOULDER BAG, FELTCRAFT DOLL EMILY, SET 10 LIGHTS NIGHT OWL, FAIRY CAKE DESIGN UMBRELLA, FOUR HOOK  WHITE LOVEBIRDS, ALARM CLOCK BAKELIKE GREEN, WOODEN PICTURE FRAME WHITE FINISH, WOOD BLACK BOARD ANT WHITE FINISH, WHITE SPOT RED CERAMIC DRAWER KNOB, WOOD 2 DRAWER CABINET WHITE FINISH, KINGS CHOICE TEA CADDY , PHOTO FRAME CORNICE, SWEETHEART RECIPE BOOK STAND, JUMBO BAG RED RETROSPOT, SKULL SHOULDER BAG, JUMBO BAG SCANDINAVIAN PAISLEY, CHARLOTTE BAG DOLLY GIRL DESIGN, CHARLOTTE BAG SUKI DESIGN, SHOE SHINE BOX ]]                                                                                                                                                                                                                                                                                                                                                                                                                                                                                                                                                                                                                                                                                                                                                                                                                                                                                                                                                                                                                                                                                                                                           |\n",
            "|[[WOODEN ADVENT CALENDAR RED, CHRISTMAS HANGING STAR WITH BELL, CHRISTMAS HANGING TREE WITH BELL, FAIRY CAKE DESIGN UMBRELLA, SKULLS AND CROSSBONES WRAP, HEART SHAPE WIRELESS DOORBELL, FIRST CLASS PASSPORT COVER , FIRST CLASS HOLIDAY PURSE , FIRST CLASS LUGGAGE TAG , RED STRIPE CERAMIC DRAWER KNOB, WHITE SPOT RED CERAMIC DRAWER KNOB, SET 10 LIGHTS NIGHT OWL, PINK DOG BOWL, BLACK AND WHITE DOG BOWL, CREAM SWEETHEART LETTER RACK, WICKER STAR , HEART OF WICKER LARGE, WHITE HANGING HEART T-LIGHT HOLDER, CANDLEHOLDER PINK HANGING HEART, GLASS CAKE COVER AND PLATE, WOOD BLACK BOARD ANT WHITE FINISH, CREAM HEART CARD HOLDER, BLACK HEART CARD HOLDER, SUKI  SHOULDER BAG, SKULL SHOULDER BAG, VINYL RECORD FRAME SILVER, CHRISTMAS HANGING HEART WITH BELL, PINK CREAM FELT CRAFT TRINKET BOX , DELUXE SEWING KIT , DISCO BALL CHRISTMAS DECORATION, MA CAMPAGNE CUTLERY BOX, CHARLOTTE BAG DOLLY GIRL DESIGN, CHARLOTTE BAG PINK POLKADOT, CHILLI LIGHTS]]                                                                                                                                                                                                                                                                                                                                                                                                                                                                                                                                                                                                                                                                                                                                                                                                                                                                                                                                                                                                                                                                                                                 |\n",
            "|[[PINK HEART SHAPE EGG FRYING PAN, SET/4 WHITE RETRO STORAGE CUBES , HOT BATHS SOAP HOLDER, MA CAMPAGNE CUTLERY BOX, ASSORTED MONKEY SUCTION CUP HOOK, LONDON BUS COFFEE MUG, FOUR HOOK  WHITE LOVEBIRDS, SANDWICH BATH SPONGE, SUKI  SHOULDER BAG, JAM JAR WITH PINK LID, BAKING MOULD CHOCOLATE CUPCAKES, JUMBO  BAG BAROQUE BLACK WHITE, CHOCOLATE HOT WATER BOTTLE, BLACK MINI TAPE MEASURE , ALARM CLOCK BAKELIKE GREEN, FRENCH BLUE METAL DOOR SIGN 5, FRENCH BLUE METAL DOOR SIGN 1, TRAVEL SEWING KIT, SMALL RED BABUSHKA NOTEBOOK , RED HANGING HEART T-LIGHT HOLDER, JAM MAKING SET WITH JARS, BAKING MOULD HEART WHITE CHOCOLATE, BAKING MOULD HEART MILK CHOCOLATE, DISCO BALL CHRISTMAS DECORATION, JAM MAKING SET PRINTED, SMALL PURPLE BABUSHKA NOTEBOOK , GUMBALL COAT RACK, CHILLI LIGHTS, RED STRIPE CERAMIC DRAWER KNOB, SET/20 STRAWBERRY PAPER NAPKINS , PACK 20 ENGLISH ROSE PAPER NAPKINS, PACK OF 20 NAPKINS PANTRY DESIGN, PACK OF 20 NAPKINS PANTRY DESIGN, HEART OF WICKER LARGE, FAIRY CAKE DESIGN UMBRELLA, DOG BOWL VINTAGE CREAM], [LOVE HEART NAPKIN BOX ], [GLASS CAKE COVER AND PLATE]]                                                                                                                                                                                                                                                                                                                                                                                                                                                                                                                                                                                                                                                                                                                                                                                                                                                                                                                                                                        |\n",
            "|[[SET/4 WHITE RETRO STORAGE CUBES , ASSORTED MONKEY SUCTION CUP HOOK, CREAM SWEETHEART LETTER RACK, LOVE HEART NAPKIN BOX , RED STRIPE CERAMIC DRAWER KNOB, WHITE SPOT RED CERAMIC DRAWER KNOB, CHILLI LIGHTS, RECYCLING BAG RETROSPOT , PINK CREAM FELT CRAFT TRINKET BOX , HANGING PHOTO CLIP ROPE LADDER, HOT BATHS SOAP HOLDER, EAU DE NILE JEWELLED PHOTOFRAME, CAMOUFLAGE DESIGN TEDDY, RECORD FRAME 7\" SINGLE SIZE ]]                                                                                                                                                                                                                                                                                                                                                                                                                                                                                                                                                                                                                                                                                                                                                                                                                                                                                                                                                                                                                                                                                                                                                                                                                                                                                                                                                                                                                                                                                                                                                                                                                                                                     |\n",
            "|[[EMPIRE GIFT WRAP, WOOD 2 DRAWER CABINET WHITE FINISH, BEACH HUT KEY CABINET, FRENCH GARDEN SIGN BLUE METAL, WICKER STAR , PINK ROSE WASHBAG, CREAM CUPID HEARTS COAT HANGER, METAL 4 HOOK HANGER FRENCH CHATEAU, PAPER BUNTING WHITE LACE, HOT BATHS SOAP HOLDER, SET 10 LIGHTS NIGHT OWL, BATH BUILDING BLOCK WORD, LUNCH BAG PINK POLKADOT, LUNCH BAG SUKI  DESIGN , RED PAPER PARASOL, SMALL RED BABUSHKA NOTEBOOK , SKULL DESIGN TV DINNER TRAY], [MA CAMPAGNE CUTLERY BOX]]                                                                                                                                                                                                                                                                                                                                                                                                                                                                                                                                                                                                                                                                                                                                                                                                                                                                                                                                                                                                                                                                                                                                                                                                                                                                                                                                                                                                                                                                                                                                                                                                               |\n",
            "|[[CHILLI LIGHTS, SKULL DESIGN TV DINNER TRAY, JUMBO BAG CHARLIE AND LOLA TOYS, VINTAGE UNION JACK MEMOBOARD, PARTY INVITES JAZZ HEARTS, PACK OF 20 NAPKINS PANTRY DESIGN, PACK 20 ENGLISH ROSE PAPER NAPKINS, LUNCH BAG RED RETROSPOT, LUNCH BAG PINK POLKADOT, PINK HAPPY BIRTHDAY BUNTING, BLUE HAPPY BIRTHDAY BUNTING, WHITE SPOT RED CERAMIC DRAWER KNOB, ASSORTED MONKEY SUCTION CUP HOOK, SET/6 TURQUOISE BUTTERFLY T-LIGHTS, TEA PARTY BIRTHDAY CARD, FRAPPUCINO SCARF KNITTING KIT, RECORD FRAME 7\" SINGLE SIZE ]]                                                                                                                                                                                                                                                                                                                                                                                                                                                                                                                                                                                                                                                                                                                                                                                                                                                                                                                                                                                                                                                                                                                                                                                                                                                                                                                                                                                                                                                                                                                                                                       |\n",
            "|[[HEART OF WICKER SMALL, SWEETHEART RECIPE BOOK STAND, METAL 4 HOOK HANGER FRENCH CHATEAU, FOUR HOOK  WHITE LOVEBIRDS, WHITE SPOT BLUE CERAMIC DRAWER KNOB, HOT WATER BOTTLE BABUSHKA , LUNCH BOX I LOVE LONDON, SPACEBOY LUNCH BOX , ALARM CLOCK BAKELIKE GREEN, RECORD FRAME 7\" SINGLE SIZE , TROPICAL PASSPORT COVER , RED GINGHAM TEDDY BEAR , HOME SMALL WOOD LETTERS, BIRD HOUSE HOT WATER BOTTLE, JUMBO BAG OWLS, RETROSPOT HEART HOT WATER BOTTLE, CHARLOTTE BAG SUKI DESIGN, SUKI  SHOULDER BAG, BABUSHKA LIGHTS STRING OF 10, HEART OF WICKER LARGE, AIRLINE BAG VINTAGE JET SET WHITE, GREEN 3 PIECE POLKADOT CUTLERY SET, PINK 3 PIECE POLKADOT CUTLERY SET, JUMBO BAG STRAWBERRY, CHARLOTTE BAG DOLLY GIRL DESIGN]]                                                                                                                                                                                                                                                                                                                                                                                                                                                                                                                                                                                                                                                                                                                                                                                                                                                                                                                                                                                                                                                                                                                                                                                                                                                                                                                                                                 |\n",
            "|[[6 CHOCOLATE LOVE HEART T-LIGHTS, SET/6 TURQUOISE BUTTERFLY T-LIGHTS, SMALL HEART MEASURING SPOONS, RED LOVE HEART SHAPE CUP, PINK LOVE HEART SHAPE CUP, WHITE HEART CONFETTI IN TUBE, SMALL HEART MEASURING SPOONS, 72 SWEETHEART FAIRY CAKE CASES, PINK  HEART CONFETTI IN TUBE, SPACEBOY LUNCH BOX , GLITTER BUTTERFLY CLIPS, GLITTER HANGING BUTTERFLY STRING, SET OF 72 PINK HEART PAPER DOILIES, ASSORTED MONKEY SUCTION CUP HOOK, ASSORTED MONKEY SUCTION CUP HOOK, RED STRIPE CERAMIC DRAWER KNOB, PINK DRAWER KNOB ACRYLIC EDWARDIAN, BLUE DRAWER KNOB ACRYLIC EDWARDIAN, WHITE SPOT RED CERAMIC DRAWER KNOB, LOVE LARGE WOOD LETTERS , BLACK RECORD COVER FRAME, RECORD FRAME 7\" SINGLE SIZE , SET OF 3 CAKE TINS PANTRY DESIGN , VINTAGE CREAM DOG FOOD CONTAINER, ALARM CLOCK BAKELIKE GREEN, 36 FOIL HEART CAKE CASES, SET 10 LIGHTS NIGHT OWL, HEART OF WICKER LARGE, HEART SHAPE WIRELESS DOORBELL, PINK PAPER PARASOL , CHILLI LIGHTS]]                                                                                                                                                                                                                                                                                                                                                                                                                                                                                                                                                                                                                                                                                                                                                                                                                                                                                                                                                                                                                                                                                                                                         |\n",
            "|[[SET/4 WHITE RETRO STORAGE CUBES , WRAP ALPHABET DESIGN, SWEETHEART RECIPE BOOK STAND, FAIRY SOAP SOAP HOLDER, PACK OF 12 SKULL TISSUES, ASSORTED MONKEY SUCTION CUP HOOK, FOOD CONTAINER SET 3 LOVE HEART , SMALL YELLOW BABUSHKA NOTEBOOK , SET/6 FROG PRINCE T-LIGHT CANDLES, WHITE SPOT RED CERAMIC DRAWER KNOB, PINK BLUE FELT CRAFT TRINKET BOX, PINK CREAM FELT CRAFT TRINKET BOX , BAKING MOULD HEART WHITE CHOCOLATE, BROCANTE COAT RACK, RED GINGHAM TEDDY BEAR , PACK OF 20 SKULL PAPER NAPKINS, SKULL DESIGN TV DINNER TRAY, BLUE PAPER PARASOL , ORANGE TV TRAY TABLE ]]                                                                                                                                                                                                                                                                                                                                                                                                                                                                                                                                                                                                                                                                                                                                                                                                                                                                                                                                                                                                                                                                                                                                                                                                                                                                                                                                                                                                                                                                                                           |\n",
            "|[[ASSORTED MONKEY SUCTION CUP HOOK, FOOD CONTAINER SET 3 LOVE HEART , GLITTER HANGING BUTTERFLY STRING, PAPER BUNTING WHITE LACE, PAPER BUNTING WHITE LACE, BLUE HAPPY BIRTHDAY BUNTING, HANGING PHOTO CLIP ROPE LADDER, BLUE SPOT CERAMIC DRAWER KNOB, WHITE SPOT RED CERAMIC DRAWER KNOB, WHITE SPOT BLUE CERAMIC DRAWER KNOB, 6 CHOCOLATE LOVE HEART T-LIGHTS, 4 IVORY DINNER CANDLES SILVER FLOCK, HOT BATHS SOAP HOLDER, HEN PARTY CORDON BARRIER TAPE, BIRTHDAY PARTY CORDON BARRIER TAPE, FRENCH BLUE METAL DOOR SIGN 2, FRENCH BATHROOM SIGN BLUE METAL, FRENCH BLUE METAL DOOR SIGN 5, FRENCH BLUE METAL DOOR SIGN 1, RED RETROSPOT OVEN GLOVE DOUBLE, SET/2 RED RETROSPOT TEA TOWELS , SKULL DESIGN TV DINNER TRAY], [SET 10 LIGHTS NIGHT OWL, CLOTHES PEGS RETROSPOT PACK 24 , HEART SHAPE WIRELESS DOORBELL]]                                                                                                                                                                                                                                                                                                                                                                                                                                                                                                                                                                                                                                                                                                                                                                                                                                                                                                                                                                                                                                                                                                                                                                                                                                                                        |\n",
            "|[[SMALL PURPLE BABUSHKA NOTEBOOK , RED SPOTTY BISCUIT TIN, BLACK MINI TAPE MEASURE , BLUE STRIPE CERAMIC DRAWER KNOB, AREA PATROLLED METAL SIGN, SET 10 LIGHTS NIGHT OWL, FELT TOADSTOOL LARGE, HOT BATHS SOAP HOLDER, FAIRY SOAP SOAP HOLDER, BLUE SPOT CERAMIC DRAWER KNOB, SET OF SALT AND PEPPER TOADSTOOLS, FELT TOADSTOOL  SMALL, CHARLOTTE BAG PINK POLKADOT, RED RETROSPOT CHARLOTTE BAG, WOODLAND CHARLOTTE BAG, CHARLOTTE BAG SUKI DESIGN, SET 2 PANTRY DESIGN TEA TOWELS, TRAVEL CARD WALLET KEEP CALM, TRAVEL CARD WALLET SKULLS, TRAVEL CARD WALLET SUKI, TRAVEL CARD WALLET VINTAGE ROSE , TRAVEL CARD WALLET RETROSPOT, TRAVEL CARD WALLET I LOVE LONDON, TRAVEL CARD WALLET FLOWER MEADOW, BAKING MOULD ROSE WHITE CHOCOLATE, 4 IVORY DINNER CANDLES SILVER FLOCK, PANTRY SCRUBBING BRUSH, SMALL HEART FLOWERS HOOK , METAL SIGN,CUPCAKE SINGLE HOOK, METAL SIGN,CUPCAKE SINGLE HOOK, METAL SIGN CUPCAKE SINGLE HOOK, METAL SIGN,CUPCAKE SINGLE HOOK, FRENCH GARDEN SIGN BLUE METAL, VICTORIAN SEWING BOX LARGE, RETROSPOT WOODEN HEART DECORATION, REVOLVER WOODEN RULER , SET OF 4 PANTRY JELLY MOULDS, FRENCH WC SIGN BLUE METAL, FRENCH BLUE METAL DOOR SIGN 1, FRENCH BLUE METAL DOOR SIGN 5, PAPER BUNTING WHITE LACE, ALARM CLOCK BAKELIKE CHOCOLATE, ALARM CLOCK BAKELIKE GREEN, SKULL DESIGN TV DINNER TRAY, PANTRY ROLLING PIN, PHOTO CUBE, GINGHAM HEART DECORATION, CHILLI LIGHTS, BLACK SILOUETTE CANDLE PLATE], [TEA TIME PARTY BUNTING, PHOTO CUBE], [HEART SHAPE WIRELESS DOORBELL]]                                                                                                                                                                                                                                                                                                                                                                                                                                                                                                                                                                             |\n",
            "|[[BIRTHDAY PARTY CORDON BARRIER TAPE, SCOTTIES DESIGN WASHBAG, SET OF 3 CAKE TINS SKETCHBOOK, VICTORIAN SEWING KIT, LARGE PURPLE BABUSHKA NOTEBOOK  , PINK CREAM FELT CRAFT TRINKET BOX , CHILLI LIGHTS, SMALL PURPLE BABUSHKA NOTEBOOK , BLACK MINI TAPE MEASURE , WHITE SPOT RED CERAMIC DRAWER KNOB, BLUE STRIPE CERAMIC DRAWER KNOB, HOME SMALL WOOD LETTERS, ALARM CLOCK BAKELIKE CHOCOLATE, DISCO BALL CHRISTMAS DECORATION, TRAVEL CARD WALLET SUKI, TRAVEL CARD WALLET KEEP CALM, TRAVEL CARD WALLET UNION JACK, TRAVEL CARD WALLET PANTRY, TRAVEL CARD WALLET RETROSPOT, TRAVEL CARD WALLET RETRO PETALS, TRAVEL CARD WALLET FLOWER MEADOW, TRAVEL CARD WALLET SKULLS, TRAVEL CARD WALLET TRANSPORT, TRAVEL CARD WALLET VINTAGE TICKET, BLUE FELT EASTER EGG BASKET, WOODEN REGATTA BUNTING, FELTCRAFT HAIRBAND PINK AND PURPLE, FOUR HOOK  WHITE LOVEBIRDS, SMALL PURPLE BABUSHKA NOTEBOOK , RIBBONS PURSE , ASSORTED TUTTI FRUTTI NOTEBOOK, SEWING SUSAN 21 NEEDLE SET, ENVELOPE 50 CURIOUS IMAGES, PACK OF 72 SKULL CAKE CASES, NURSE'S BAG SOFT TOY, NATURAL SLATE HEART CHALKBOARD , FELTCRAFT DOLL EMILY, FELTCRAFT DOLL MOLLY, FELTCRAFT PRINCESS OLIVIA DOLL, SUKI  SHOULDER BAG, JUMBO BAG STRAWBERRY]]                                                                                                                                                                                                                                                                                                                                                                                                                                                                                                                                                                                                                                                                                                                                                                                                                                                                        |\n",
            "|[[MUSICAL ZINC HEART DECORATION , PAPER BUNTING RETROSPOT, SMALL RED BABUSHKA NOTEBOOK , SMALL PURPLE BABUSHKA NOTEBOOK , SMALL YELLOW BABUSHKA NOTEBOOK , METAL SIGN TAKE IT OR LEAVE IT , RED SPOT CERAMIC DRAWER KNOB, BLUE SPOT CERAMIC DRAWER KNOB, WHITE SPOT RED CERAMIC DRAWER KNOB,  4 PURPLE FLOCK DINNER CANDLES, CHILLI LIGHTS, PINK CREAM FELT CRAFT TRINKET BOX , SKULLS WRITING SET , STRAWBERRY CHARLOTTE BAG, CHARLOTTE BAG SUKI DESIGN, PAPER BUNTING WHITE LACE, WOODLAND CHARLOTTE BAG, JUMBO BAG TOYS , SUKI  SHOULDER BAG, RED RETROSPOT CHARLOTTE BAG, CREAM CUPID HEARTS COAT HANGER, METAL 4 HOOK HANGER FRENCH CHATEAU, SKULL DESIGN TV DINNER TRAY, JUMBO STORAGE BAG SKULLS, JUMBO BAG STRAWBERRY, RECORD FRAME 7\" SINGLE SIZE , RED RETROSPOT PEG BAG, PINK FAIRY CAKE CHILDRENS APRON, 4 IVORY DINNER CANDLES SILVER FLOCK, BATHROOM SET LOVE HEART DESIGN, PACK OF 20 NAPKINS RED APPLES, PACK OF 60 SPACEBOY CAKE CASES, ALARM CLOCK BAKELIKE GREEN, WHITE TRAVEL ALARM CLOCK, RETRO MOD TRAY, HEART OF WICKER SMALL, BROCANTE COAT RACK, CHILDRENS CUTLERY POLKADOT PINK, STRAWBERRY BATH SPONGE , GINGERBREAD MAN COOKIE CUTTER, BLUE PAPER PARASOL , CHICK GREY HOT WATER BOTTLE, AIRLINE BAG VINTAGE JET SET BROWN, 4 BLUE DINNER CANDLES SILVER FLOCK, FELTCRAFT DOLL ROSIE, HEART OF WICKER LARGE, GINGHAM HEART DECORATION], [SCOTTIES DESIGN WASHBAG]]                                                                                                                                                                                                                                                                                                                                                                                                                                                                                                                                                                                                                                                                                                   |\n",
            "+-------------------------------------------------------------------------------------------------------------------------------------------------------------------------------------------------------------------------------------------------------------------------------------------------------------------------------------------------------------------------------------------------------------------------------------------------------------------------------------------------------------------------------------------------------------------------------------------------------------------------------------------------------------------------------------------------------------------------------------------------------------------------------------------------------------------------------------------------------------------------------------------------------------------------------------------------------------------------------------------------------------------------------------------------------------------------------------------------------------------------------------------------------------------------------------------------------------------------------------------------------------------------------------------------------------------------------------------------------------------------------------------------------------------------------------------------------------------------------------------------------------------------------------------------------------------------------------------------------------------------------------------------------------------------------------------------------------------------------------------------------------------------------------------------------------------------------------------------------------------------------------------------------------------------------------------------------------------------------------------------------------------------------------------------------------------------------------------------+\n",
            "only showing top 20 rows\n",
            "\n"
          ]
        }
      ]
    },
    {
      "cell_type": "code",
      "source": [
        "prefixSpan = PrefixSpan(minSupport=0.3)\n",
        "prefixSpan.findFrequentSequentialPatterns(df).sort(\"sequence\").show(truncate=False)"
      ],
      "metadata": {
        "colab": {
          "base_uri": "https://localhost:8080/"
        },
        "id": "L10VhUKeQlWb",
        "outputId": "e0728922-0bda-48aa-844b-36f04fefa46d"
      },
      "execution_count": 26,
      "outputs": [
        {
          "output_type": "stream",
          "name": "stdout",
          "text": [
            "+--------------------------------------+----+\n",
            "|sequence                              |freq|\n",
            "+--------------------------------------+----+\n",
            "|[[BLUE/CREAM STRIPE CUSHION COVER ]]  |50  |\n",
            "|[[CHARLOTTE BAG SUKI DESIGN]]         |46  |\n",
            "|[[CHILLI LIGHTS]]                     |62  |\n",
            "|[[DISCO BALL CHRISTMAS DECORATION]]   |36  |\n",
            "|[[GUMBALL COAT RACK]]                 |44  |\n",
            "|[[PACK OF 60 DINOSAUR CAKE CASES]]    |46  |\n",
            "|[[RECORD FRAME 7\" SINGLE SIZE ]]      |38  |\n",
            "|[[SKULL DESIGN TV DINNER TRAY]]       |41  |\n",
            "|[[SMALL PURPLE BABUSHKA NOTEBOOK ]]   |34  |\n",
            "|[[SMALL YELLOW BABUSHKA NOTEBOOK ]]   |34  |\n",
            "|[[SUKI  SHOULDER BAG]]                |40  |\n",
            "|[[WHITE SPOT RED CERAMIC DRAWER KNOB]]|38  |\n",
            "+--------------------------------------+----+\n",
            "\n"
          ]
        }
      ]
    }
  ]
}